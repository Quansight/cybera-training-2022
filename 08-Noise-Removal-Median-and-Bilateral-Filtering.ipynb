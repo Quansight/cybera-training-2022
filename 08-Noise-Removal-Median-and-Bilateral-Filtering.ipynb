{
 "cells": [
  {
   "cell_type": "markdown",
   "metadata": {},
   "source": [
    "<center>\n",
    "    <tr>\n",
    "    <td><img src=\"images/Quansight_Logo_Lockup_1.png\" width=\"25%\"></img></td>\n",
    "    </tr>\n",
    "</center>"
   ]
  },
  {
   "cell_type": "markdown",
   "metadata": {},
   "source": [
    "# Noise Removal: Median and Bilateral Filtering"
   ]
  },
  {
   "cell_type": "code",
   "execution_count": null,
   "metadata": {},
   "outputs": [],
   "source": [
    "import cv2 as cv\n",
    "import numpy as np\n",
    "import matplotlib.pyplot as plt"
   ]
  },
  {
   "cell_type": "markdown",
   "metadata": {
    "tags": []
   },
   "source": [
    "## Median Filtering\n",
    "\n",
    "To see median filtering, let's start with a simple grayscale image."
   ]
  },
  {
   "cell_type": "code",
   "execution_count": null,
   "metadata": {},
   "outputs": [],
   "source": [
    "im = cv.imread('data/bambi.jpg',0).astype(np.uint8)\n",
    "\n",
    "plt.figure(figsize=(10,10))\n",
    "plt.imshow(im, cmap='gray');"
   ]
  },
  {
   "cell_type": "markdown",
   "metadata": {
    "tags": []
   },
   "source": [
    "#### Salt-and-pepper noise\n",
    "\n",
    "Let's add some *salt-and-pepper* (or *impulse*) noise to the image.  This noise can be caused by sharp and sudden disturbances in the image signal. It presents itself as sparsely occurring white and black pixels.\n",
    "\n",
    "Check [here](https://en.wikipedia.org/wiki/Salt-and-pepper_noise) for more information."
   ]
  },
  {
   "cell_type": "code",
   "execution_count": null,
   "metadata": {},
   "outputs": [],
   "source": [
    "black = 10\n",
    "white = 250\n",
    "mask = np.empty(im.shape, np.uint8)\n",
    "mask = cv.randu(mask, 0, 255)\n",
    "im[mask < black] = 0\n",
    "im[mask > white] = 255\n",
    "\n",
    "plt.figure(figsize=(10,10))\n",
    "plt.imshow(im, cmap='gray');"
   ]
  },
  {
   "cell_type": "markdown",
   "metadata": {},
   "source": [
    "#### Gaussian smoothing with salt-and-pepper noise\n",
    "\n",
    "The following example supports the assertion that Gaussian smoothing fails to get rid of the salt-and-pepper noise."
   ]
  },
  {
   "cell_type": "code",
   "execution_count": null,
   "metadata": {},
   "outputs": [],
   "source": [
    "half_width = 2\n",
    "sigma = 1\n",
    "\n",
    "plt.figure(figsize=(10,10))\n",
    "plt.imshow(cv.GaussianBlur(im, (2*half_width+1, 2*half_width+1), sigma), cmap='gray');"
   ]
  },
  {
   "cell_type": "markdown",
   "metadata": {},
   "source": [
    "### Median filtering as a nonlinear strategy\n",
    "\n",
    "Median filtering is widely used in digital image processing and signal processing to get rid of *speckle* and *salt-and-pepper* noise while preserving edges.\n",
    "\n",
    "From Wikipedia article on [median filtering](https://en.wikipedia.org/wiki/Median_filter)\n",
    "\n",
    "> For small to moderate levels of Gaussian noise, the median filter is demonstrably better than Gaussian blur at removing noise whilst preserving edges for a given, fixed window size.  However, its performance is not that much better than Gaussian blur for high levels of noise, whereas, for speckle noise and salt-and-pepper noise (impulsive noise), it is particularly effective.  Because of this, median filtering is very widely used in digital image processing.\n",
    "\n",
    "*Aside*: Speckle is a granular interference that inherently exists in and degrades the quality of the active radar, synthetic aperture radar (SAR), medical ultrasound and optical coherence tomography images.  See [here](https://en.wikipedia.org/wiki/Speckle_(interference)) for more information.\n",
    "\n",
    "<center>\n",
    "    <tr>\n",
    "        <td><img src=\"images/sar-image.png\" width=\"75%\"></img></td>\n",
    "    </tr><br/>\n",
    "    (Image from Meskine, Fatiha & Miloud, chikr el-mezouar & Taleb, Nasreddine. (2010). A Rigid Image Registration Based on the Nonsubsampled Contourlet Transform and Genetic Algorithms. Sensors. 10. 8553-8571.)     \n",
    "</center>"
   ]
  },
  {
   "cell_type": "markdown",
   "metadata": {},
   "source": [
    "### Median filtering in 1D\n",
    "\n",
    "Replace a value at location $i$ with the median of its neighbourhood values.  \n",
    "\n",
    "(Treat neighbourhood in a similar vein as the filter width in the case of *linear filtering*.)"
   ]
  },
  {
   "cell_type": "code",
   "execution_count": null,
   "metadata": {},
   "outputs": [],
   "source": [
    "x = np.random.rand(10)*255\n",
    "x = x.astype(np.uint8)\n",
    "print(f'x = {x}')"
   ]
  },
  {
   "cell_type": "markdown",
   "metadata": {},
   "source": [
    "### Live coding session"
   ]
  },
  {
   "cell_type": "code",
   "execution_count": null,
   "metadata": {},
   "outputs": [],
   "source": [
    "# %load solutions/10/solution-01.py\n"
   ]
  },
  {
   "cell_type": "code",
   "execution_count": null,
   "metadata": {},
   "outputs": [],
   "source": [
    "# %load solutions/10/solution-02.py\n"
   ]
  },
  {
   "cell_type": "markdown",
   "metadata": {},
   "source": [
    "### Median filtering in 2D"
   ]
  },
  {
   "cell_type": "code",
   "execution_count": null,
   "metadata": {},
   "outputs": [],
   "source": [
    "half_width = 1\n",
    "\n",
    "plt.figure(figsize=(20,15))\n",
    "plt.subplot(121)\n",
    "plt.title('Gaussian smoothing')\n",
    "plt.imshow(cv.GaussianBlur(im, (2*half_width+1, 2*half_width+1), sigma), cmap='gray')\n",
    "plt.subplot(122)\n",
    "plt.title('Median filtering')\n",
    "plt.imshow(cv.medianBlur(im, 2*half_width+1), cmap='gray');"
   ]
  },
  {
   "cell_type": "markdown",
   "metadata": {},
   "source": [
    "---"
   ]
  },
  {
   "cell_type": "markdown",
   "metadata": {},
   "source": [
    "## Bilateral Filtering\n",
    "\n",
    "From [Wikipedia](https://en.wikipedia.org/wiki/Bilateral_filter):\n",
    "\n",
    "> A bilateral filter is a non-linear, edge-preserving, and noise-reducing smoothing filter for images. It replaces the intensity of each pixel with a weighted average of intensity values from nearby pixels. This weight can be based on a Gaussian distribution. Crucially, the weights depend not only on Euclidean distance of pixels, but also on the radiometric differences (e.g., range differences, such as color intensity, depth distance, etc.). This preserves sharp edges.\n",
    "\n",
    "More details on theory of bilateral filters are available from [a short course offered at SIGGRAPH 2008](https://people.csail.mit.edu/sparis/bf_course). We'll look at the ideas at a very high level here."
   ]
  },
  {
   "cell_type": "markdown",
   "metadata": {},
   "source": [
    "### Gaussian kernel in 1D - Review\n",
    "\n",
    "A Gaussian kernel is a kernel with the shape of a Gaussian (Normal distribution) curve. Here is a standard Gaussian, with a mean of $0$ and a \n",
    "$\\sigma$ of 1."
   ]
  },
  {
   "cell_type": "code",
   "execution_count": null,
   "metadata": {},
   "outputs": [],
   "source": [
    "np.random.seed(2)\n",
    "x_gaussian = np.arange(-5, 5, 0.1)\n",
    "sigma = 1\n",
    "y_gaussian = 1. / np.sqrt(2 * np.pi) * np.exp(-x_gaussian**2 / (2. * sigma**2))\n",
    "plt.figure(figsize=(5,5))\n",
    "plt.plot(x_gaussian, y_gaussian, c='r');"
   ]
  },
  {
   "cell_type": "markdown",
   "metadata": {},
   "source": [
    "#### Full Width at Half Maximum Measure (FWHM)\n",
    "\n",
    "When the Gaussian is used for smoothing, it is common to describe the width of the Gaussian in terms of the Full Width at Half Maximum (FWHM).  The FWHM is the width of the kernel, at half of the maximum of the height of the Gaussian.\n",
    "\n",
    "In the above example, the maximum value for the Gaussian is ~$0.4$.  The $x$ value corresponding to half the maximum value (i.e., 0.2) is roughly $-1.17$ and $1.17$.  This suggests that the FWHM is ~$2 \\times 1.17$.\n",
    "\n",
    "The following Python functions capture the relationship between $\\sigma$ and FWHM."
   ]
  },
  {
   "cell_type": "code",
   "execution_count": null,
   "metadata": {},
   "outputs": [],
   "source": [
    "def sigma2fwhm(sigma):\n",
    "    return sigma * np.sqrt(8 * np.log(2))\n",
    "\n",
    "def fwhm2sigma(fwhm):\n",
    "    return fwhm / np.sqrt(8 * np.log(2))"
   ]
  },
  {
   "cell_type": "code",
   "execution_count": null,
   "metadata": {},
   "outputs": [],
   "source": [
    "sigma = 1\n",
    "fwhm = sigma2fwhm(sigma)\n",
    "print(f'fwhm at sigma = {sigma} is {fwhm}')"
   ]
  },
  {
   "cell_type": "code",
   "execution_count": null,
   "metadata": {},
   "outputs": [],
   "source": [
    "fwhm = 2.35\n",
    "sigma = fwhm2sigma(2.35)\n",
    "print(f'sigma at fwhm = {fwhm} is {sigma}')"
   ]
  },
  {
   "cell_type": "markdown",
   "metadata": {},
   "source": [
    "#### Gaussian smoothing in 1D\n",
    "\n",
    "Let's first study the effect of Gaussian smoothing in 1D and its effect on edges. We'll consider a 1D step function with some random noise."
   ]
  },
  {
   "cell_type": "code",
   "execution_count": null,
   "metadata": {},
   "outputs": [],
   "source": [
    "np.random.seed(2)"
   ]
  },
  {
   "cell_type": "code",
   "execution_count": null,
   "metadata": {},
   "outputs": [],
   "source": [
    "N = 2*10 # The trick to ensure N is always even\n",
    "x = np.arange(N)\n",
    "x_max = np.max(x)\n",
    "y_first = np.random.randint(low=10, high=20, size=N//2)\n",
    "y_second = np.random.randint(low=200, high=250, size=N//2)\n",
    "y = np.hstack([y_first, y_second])\n",
    "\n",
    "plt.figure(figsize=(5,5))\n",
    "plt.title('One dimensional grayscale image')\n",
    "plt.ylabel('Pixel intensities')\n",
    "plt.xlabel('Pixel $x$ locations')\n",
    "plt.ylim(0, 255)\n",
    "plt.xticks(x)\n",
    "plt.bar(x, y);"
   ]
  },
  {
   "cell_type": "markdown",
   "metadata": {},
   "source": [
    "#### Computing Smoothed Values\n",
    "\n",
    "In order to smooth data using a Gaussian kernel, we need to slide the kernel over the signal and recompute corresponding values.  Consider the signal above. Say we want to recompute the value at pixel location = 5.  We will need to place a Gaussian at this location to compute the new value at location 5."
   ]
  },
  {
   "cell_type": "code",
   "execution_count": null,
   "metadata": {},
   "outputs": [],
   "source": [
    "scale = 200 # So we can actually see it\n",
    "\n",
    "FWHM = 8 \n",
    "sigma = fwhm2sigma(FWHM)\n",
    "x_position = 15 \n",
    "kernel_at_pos = np.exp(-(x - x_position) ** 2 / (2 * sigma ** 2))\n",
    "kernel_at_pos = kernel_at_pos / np.sum(kernel_at_pos) \n",
    "\n",
    "plt.figure(figsize=(5,5))\n",
    "plt.title('One dimensional grayscale image')\n",
    "plt.ylabel('Pixel intensities')\n",
    "plt.xlabel('Pixel $x$ locations')\n",
    "plt.ylim(0, 255)\n",
    "plt.xticks(x)\n",
    "plt.bar(x, y)\n",
    "plt.bar(x, scale*kernel_at_pos, alpha=0.5, color='r');"
   ]
  },
  {
   "cell_type": "code",
   "execution_count": null,
   "metadata": {},
   "outputs": [],
   "source": [
    "x_position_min = max(x_position - FWHM, 0)\n",
    "x_position_max = min(x_position + FWHM, x_max)+1\n",
    "\n",
    "print('x: {}'.format(x_position))\n",
    "print('x min: {}'.format(x_position_min))\n",
    "print('x max: {}'.format(x_position_max))\n",
    "\n",
    "relevant_y = y[x_position_min:x_position_max]\n",
    "relevant_k = kernel_at_pos[x_position_min:x_position_max]\n",
    "smoothed_y_at_position = np.sum(relevant_y * relevant_k)\n",
    "\n",
    "np.set_printoptions(precision=3, suppress=True)\n",
    "print('Value of signal around {}:'.format(x_position), relevant_y)\n",
    "print('Value of kernel around {}:'.format(x_position), relevant_k)\n",
    "print('Old y at {} = {:.2f}'.format(x_position, y[x_position]))\n",
    "print('New y at {} = {:.2f}'.format(x_position, smoothed_y_at_position))"
   ]
  },
  {
   "cell_type": "markdown",
   "metadata": {},
   "source": [
    "#### Sliding windows"
   ]
  },
  {
   "cell_type": "code",
   "execution_count": null,
   "metadata": {},
   "outputs": [],
   "source": [
    "smoothed_y = np.zeros(y.shape)\n",
    "for x_position in x:\n",
    "    kernel = np.exp(-(x - x_position) ** 2 / (2 * sigma ** 2))\n",
    "    kernel = kernel / np.sum(kernel)\n",
    "    smoothed_y[x_position] = np.sum(y * kernel)\n",
    "\n",
    "plt.figure(figsize=(12,5))\n",
    "plt.subplot(121)\n",
    "plt.title('One dimensional grayscale image')\n",
    "plt.xlabel('Pixel locations')\n",
    "plt.ylabel('Pixel intensities')\n",
    "plt.xticks(x)\n",
    "plt.ylim(0,255)\n",
    "plt.bar(x, y, alpha=1)\n",
    "plt.subplot(122)\n",
    "plt.title('One dimensional grayscale image (Smoothed)')\n",
    "plt.xlabel('Pixel locations')\n",
    "plt.ylabel('Pixel intensities')\n",
    "plt.xticks(x)\n",
    "plt.ylim(0,255)\n",
    "plt.bar(x, smoothed_y, alpha=1, color='r');"
   ]
  },
  {
   "cell_type": "markdown",
   "metadata": {},
   "source": [
    "### Bilateral filtering in 1D"
   ]
  },
  {
   "cell_type": "code",
   "execution_count": null,
   "metadata": {},
   "outputs": [],
   "source": [
    "x_position = 9 # Position in array is 10 (0 based) \n",
    "\n",
    "FWHM1 = 8 # The value falls below the half of maximum value after 2\n",
    "sigma1 = fwhm2sigma(FWHM1)\n",
    "kernel1_at_pos = np.exp(-(x - x_position) ** 2 / (2 * sigma1 ** 2))\n",
    "kernel1_at_pos = kernel1_at_pos / np.sum(kernel1_at_pos) # Sum to 1\n",
    "\n",
    "FWHM2 = 60 # The value falls below the half of maximum value after 2\n",
    "sigma2 = fwhm2sigma(FWHM2)\n",
    "kernel2_at_pos = np.zeros(kernel1_at_pos.shape)\n",
    "kernel2_at_pos = np.exp(-(y[x] - y[x_position]) ** 2 / (2 * sigma2 ** 2))\n",
    "kernel2_at_pos = kernel2_at_pos / np.sum(kernel2_at_pos)\n",
    "\n",
    "scale = 200 # So we can actually see it\n",
    "\n",
    "plt.figure(figsize=(12,5))\n",
    "plt.subplot(121)\n",
    "plt.title('Nearness')\n",
    "plt.ylabel('Pixel intensities')\n",
    "plt.xlabel('Pixel $x$ locations')\n",
    "plt.ylim(0, 255)\n",
    "plt.xticks(x)\n",
    "plt.bar(x, y, alpha=.5)\n",
    "plt.bar(x, scale*kernel1_at_pos, alpha=0.5, color='r')\n",
    "plt.subplot(122)\n",
    "plt.title('Same intensities')\n",
    "plt.ylabel('Pixel intensities')\n",
    "plt.xlabel('Pixel $x$ locations')\n",
    "plt.ylim(0, 255)\n",
    "plt.xticks(x)\n",
    "plt.bar(x, y, alpha=.5)\n",
    "plt.bar(x, scale*kernel2_at_pos, alpha=0.5, color='g');"
   ]
  },
  {
   "cell_type": "markdown",
   "metadata": {},
   "source": [
    "#### Sliding window"
   ]
  },
  {
   "cell_type": "code",
   "execution_count": null,
   "metadata": {},
   "outputs": [],
   "source": [
    "smoothed_y = np.zeros(y.shape)\n",
    "for x_position in x:\n",
    "    kernel1 = np.exp(-(x - x_position) ** 2 / (2 * sigma1 ** 2))\n",
    "    kernel2 = np.exp(-(y[x] - y[x_position]) ** 2 / (2 * sigma2 ** 2))\n",
    "    kernel = kernel1 * kernel2\n",
    "    kernel = kernel / np.sum(kernel)\n",
    "    smoothed_y[x_position] = np.sum(y * kernel)\n",
    "\n",
    "plt.figure(figsize=(12,5))\n",
    "plt.subplot(121)\n",
    "plt.title('One dimensional grayscale image')\n",
    "plt.xlabel('Pixel locations')\n",
    "plt.ylabel('Pixel intensities')\n",
    "plt.xticks(x)\n",
    "plt.ylim(0,255)\n",
    "plt.bar(x, y, alpha=1)\n",
    "plt.subplot(122)\n",
    "plt.title('One dimensional grayscale image (Smoothed)')\n",
    "plt.xlabel('Pixel locations')\n",
    "plt.ylabel('Pixel intensities')\n",
    "plt.xticks(x)\n",
    "plt.ylim(0,255)\n",
    "plt.bar(x, smoothed_y, alpha=1, color='r');"
   ]
  },
  {
   "cell_type": "markdown",
   "metadata": {},
   "source": [
    "## Comparison\n",
    "\n",
    "(Left to right) 1d input image, Gaussian smoothing, and bilateral filtering.  Note that bilateral filtering preserves edge information.\n",
    "\n",
    "<center>\n",
    "    <tr>\n",
    "        <td><img src=\"images/1d-image-bilateral.png\" width=\"31%\"></img></td>\n",
    "        <td><img src=\"images/gaussian-bilateral.png\" width=\"31%\"></img></td>\n",
    "        <td><img src=\"images/bilateral.png\" width=\"31%\"></img></td>\n",
    "    </tr>\n",
    "</center>"
   ]
  },
  {
   "cell_type": "markdown",
   "metadata": {},
   "source": [
    "---\n",
    "Based on materials from Prof. Faisal Qureshi (Faculty of Science, Ontario Tech University, Oshawa ON, Canada, http://vclab.science.ontariotechu.ca)\n",
    "\n",
    "<center>\n",
    "    <tr>\n",
    "    <td><img src=\"images/Quansight_Logo_Lockup_1.png\" width=\"25%\"></img></td>\n",
    "    </tr>\n",
    "</center>"
   ]
  }
 ],
 "metadata": {
  "kernelspec": {
   "display_name": "Python 3 (ipykernel)",
   "language": "python",
   "name": "python3"
  },
  "language_info": {
   "codemirror_mode": {
    "name": "ipython",
    "version": 3
   },
   "file_extension": ".py",
   "mimetype": "text/x-python",
   "name": "python",
   "nbconvert_exporter": "python",
   "pygments_lexer": "ipython3",
   "version": "3.7.12"
  },
  "toc-autonumbering": false,
  "toc-showcode": false,
  "toc-showmarkdowntxt": false,
  "toc-showtags": false
 },
 "nbformat": 4,
 "nbformat_minor": 4
}
