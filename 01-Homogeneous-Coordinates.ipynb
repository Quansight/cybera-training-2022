{
 "cells": [
  {
   "cell_type": "markdown",
   "id": "477dad99-253b-4f73-84fa-08fb6e0e9999",
   "metadata": {},
   "source": [
    "<center>\n",
    "    <tr>\n",
    "    <td><img src=\"images/Quansight_Logo_Lockup_1.png\" width=\"25%\"></img></td>\n",
    "    </tr>\n",
    "</center>"
   ]
  },
  {
   "cell_type": "markdown",
   "id": "9f825e2d-7c22-4ba3-ae99-e26d00ae6aaa",
   "metadata": {},
   "source": [
    "# Homogeneous Coordinates"
   ]
  },
  {
   "cell_type": "markdown",
   "id": "984080af-0224-44f3-b632-111bdec81e68",
   "metadata": {},
   "source": [
    "## From Cartesian Coordinates to Homogeneous Coordinates\n",
    "   \n",
    "$$\n",
    "\\begin{array}{rcl} \n",
    "(x,y) & \\to & (x,y,1) \\\\\n",
    "(x,y,z) & \\to & (x,y,z,1) \\\\\n",
    "\\end{array}\n",
    "$$\n",
    "\n",
    "#### Example\n",
    "\n",
    "$$\n",
    "\\begin{array}{rcl}\n",
    "(2,3) & \\to & (2,3,1) \\\\\n",
    "(10,-4,-2) & \\to & (10,-4,-2,1) \\\\\n",
    "\\end{array}\n",
    "$$\n",
    "\n",
    "## From Homogeneous Coordinates to Cartesian Coordinates\n",
    "\n",
    "$$\n",
    "\\begin{array}{rcl}\n",
    "(x,y,w) & \\to & \\left( x/w,y/w \\right) \\\\\n",
    "(x,y,z,w) & \\to & \\left( x/w,y/w,z/w \\right) \\\\\n",
    "\\end{array}\n",
    "$$\n",
    "\n",
    "#### Example \n",
    "\n",
    "$$\n",
    "\\begin{array}{rcl}\n",
    "(6,-2,2) & \\to & (3,-1) \\\\\n",
    "(9,-24,-3,-3) & \\to & (-3,8,1) \\\\\n",
    "\\end{array}\n",
    "$$"
   ]
  },
  {
   "cell_type": "markdown",
   "id": "b2e6eb3c-02d1-470f-ba3f-0584f04c4910",
   "metadata": {},
   "source": [
    "## Homogeneous Coordinates Properties\n",
    "\n",
    "Invariant to Scaling, i.e., $(x,y,w) = k(x,y,w)$.  Both $(x,y,w)$ and $(kx, ky, kw)$ represent the same 2D Cartesian point $(x/w, y/w)$."
   ]
  },
  {
   "cell_type": "markdown",
   "id": "b7f21da3-97b9-410a-82e1-97c7bfedd4a2",
   "metadata": {},
   "source": [
    "### Constructing a Line\n",
    "\n",
    "Consider two 2D Cartesian points $(x_1,y_1)$ and  $(x_2,y_2)$.  We can find the line that passes through these points using cross-product in homogeneous coordinates.\n",
    "\n",
    "Recall that equation of a line is $ax + by+c = 0$ then\n",
    "$$\n",
    "(a,b,c) = (x_1,y_1,1) \\times (x_2,y_2,1)\n",
    "$$\n",
    "\n",
    "**Cross-Product**\n",
    "\n",
    "Cross-product of two vectors $(d,e,f)$ and $(r,s,t)$ is computed as seen below.\n",
    "\n",
    "$$\n",
    "(d,e,f) \\times (r,s,t)\n",
    "=\n",
    "\\mathrm{det}\n",
    "\\left[\\begin{array}{ccc}\n",
    "\\hat{i} & \\hat{j} & \\hat{k}\\\\\n",
    "d & e & f \\\\\n",
    "r & s & t\n",
    "\\end{array}\n",
    "\\right]\n",
    "$$"
   ]
  },
  {
   "cell_type": "code",
   "execution_count": null,
   "id": "a17e61a3-af61-4ee4-80d1-67c53c52f78e",
   "metadata": {
    "tags": []
   },
   "outputs": [],
   "source": [
    "import numpy as np\n",
    "import math\n",
    "from scipy import linalg"
   ]
  },
  {
   "cell_type": "markdown",
   "id": "a83112df-b979-4f85-a7e8-4f5f77f604be",
   "metadata": {},
   "source": [
    "#### Exercise: computing a representation of a line from homogenous coordinates\n",
    "\n",
    "Find a representation of the line between points $\\mathbf{a}=(1,2)$ and $\\mathbf{b}=(4,3)$ using homogeneous coordinates."
   ]
  },
  {
   "cell_type": "code",
   "execution_count": null,
   "id": "197e950f-8f4a-4ddb-b3b0-5d50d59ec0e9",
   "metadata": {},
   "outputs": [],
   "source": [
    "# Your solution here"
   ]
  },
  {
   "cell_type": "code",
   "execution_count": null,
   "id": "0ef50bb2-194c-4e15-9d46-c8740cbd8aae",
   "metadata": {},
   "outputs": [],
   "source": [
    "# %load solutions/01/solution_01.py"
   ]
  },
  {
   "cell_type": "markdown",
   "id": "2c03fef4-1ae5-49fb-9590-ac1597dbfe18",
   "metadata": {},
   "source": [
    "### Intersecting Lines\n",
    "\n",
    "Given two lines $a_1 x + b_1 y + c_1=0$ and $a_2 x + b_2 y + c_2=0$, we can compute their intersection using cross-product as follows:\n",
    "\n",
    "**Step 1: Find intersection point in homogeneous coordinates**\n",
    "\n",
    "$$\n",
    "(x,y,w) = (a_1,b_1,c_1) \\times (a_2,b_2,c_2)\n",
    "$$\n",
    "\n",
    "**Step 2: Compute Cartesian coordinates from homogeneous coordinates**\n",
    "\n",
    "Intersection point is then $(x/w,y/w)$"
   ]
  },
  {
   "cell_type": "markdown",
   "id": "4e7c0f02-4d09-4648-a53d-b0ba6afabbcf",
   "metadata": {},
   "source": [
    "#### Example: finding the intersection of two lines using homogeneous coordinates\n",
    "\n",
    "Use homogeneous coordinates to determine the intersection location for the following two lines. \n",
    "\n",
    "$$\n",
    "\\begin{align}\n",
    "3x - y + 7 & = 0 \\\\\n",
    "2x - y + 1 & = 0\n",
    "\\end{align}\n",
    "$$    "
   ]
  },
  {
   "cell_type": "code",
   "execution_count": null,
   "id": "dccd25bd-7c6b-4f16-a95f-76d0740ebee2",
   "metadata": {},
   "outputs": [],
   "source": [
    "l1 = np.array([3,-1,7])\n",
    "l2 = np.array([2,-1,1])\n",
    "\n",
    "ph = np.cross(l1, l2)\n",
    "print('ph = {}'.format(ph))\n",
    "\n",
    "p = ph[:2] / ph[2]\n",
    "print('p = {}'.format(p))\n",
    "print('Point p sits on l1: {}'.format(math.isclose(np.dot(l1, np.append(p,[1])), 0.0)))\n",
    "print('Point p sits on l2: {}'.format(math.isclose(np.dot(l2, np.append(p,[1])), 0.0)))"
   ]
  },
  {
   "cell_type": "markdown",
   "id": "bfb396a0-5e1f-49a2-8b95-aa87954af37a",
   "metadata": {},
   "source": [
    "#### Exercise: finding the intersection of two lines using homogeneous coordinates\n",
    "\n",
    "Find intersection location for the following two lines.\n",
    "\n",
    "$$\n",
    "\\begin{align}\n",
    "3x - y + 7 & = 0 \\\\\n",
    "3x - y - 3 & = 0\n",
    "\\end{align}\n",
    "$$    "
   ]
  },
  {
   "cell_type": "code",
   "execution_count": null,
   "id": "2d82f937-24ac-4476-9318-dd5645f8ce00",
   "metadata": {},
   "outputs": [],
   "source": [
    "# Your solution here"
   ]
  },
  {
   "cell_type": "code",
   "execution_count": null,
   "id": "36030bd1-c640-47bb-a525-6435f12d45f4",
   "metadata": {},
   "outputs": [],
   "source": [
    "# %load solutions/01/solution_02.py"
   ]
  },
  {
   "cell_type": "markdown",
   "id": "acd40d78-5e09-446b-8b1a-d6b2deab1436",
   "metadata": {},
   "source": [
    "### Parallel Lines\n",
    "\n",
    "$w=0$ if two lines are parallel.  We say that these lines intersect at infinity.  This suggests that it is possible to represent points at infinity in homogeneous coordinates.  Just set the homogeneous coordinate to $0$."
   ]
  },
  {
   "cell_type": "markdown",
   "id": "5f2d9876-3c66-49ea-bfd7-a1d95316bd20",
   "metadata": {},
   "source": [
    "### Points at Infinity\n",
    "\n",
    "We can represent a point at infinity by setting its $w=0$.  E.g., Homogeneous coordinate $(3,-1,3,0)$ represents a point at infinity in the direction $(3,-1,3,0)$."
   ]
  },
  {
   "cell_type": "markdown",
   "id": "3ea7c2a8-f99d-4482-8ed3-312d167ebec3",
   "metadata": {},
   "source": [
    "## Back to Pinhole Model\n",
    "\n",
    "We now develop a mathematical model for pinhole cameras. This discussion follows Ch. 6 of [Multiple View Geometry in Computer Vision (2nd Ed.)](https://www.robots.ox.ac.uk/~vgg/hzbook/) by Harley and Zisserman. For the following discussion we assume the following camera geometry.\n",
    "\n",
    "<figure style=\"margin-left:auto; margin-right: auto; text-align: center; display: block; max-width: 700px;\">\n",
    "<img src=\"images/camera-geometry.png\" alt=\"Drawing\" style=\"width: 600px;\"/>\n",
    "    <br/><figcaption>Picture from Multiple View Geometry in Computer Vision, Second Edition.</figcaption>\n",
    "</figure>\n",
    "\n",
    "This assumes that the image plane sits in front of the pinhole.  Obviously, no physical camera has this property.  Never the less it is mathematically convenient (and equivalent) to model pinhole cameras as such.\n",
    "\n",
    "- Camera centre sits at the origin of the Euclidean coordinate system  Camera centre is also known as center of projection or optical centre \n",
    "- Image plane (also known as the focal plane) sits at $Z = f$\n",
    "- Point in 3D space\n",
    "$$\n",
    "\\mathbf{X} = (X, Y, Z)^T\n",
    "$$\n",
    "- This point is mapped to \n",
    "$$\n",
    "\\left( f X / Z, f Y / Z, f \\right)\n",
    "$$\n",
    "- Image coordinates are (just drop $f$)\n",
    "$$\n",
    "\\left( f X / Z, f Y / Z \\right)\n",
    "$$\n",
    "- Principal axis or principal ray is the line parallel to the image plane and passing through the centre of projection\n",
    "- Principal point is the intersection location of image plane with the principal axis\n",
    "- Principal plane is parallel to the image plane and passes through the centre of projection\n"
   ]
  },
  {
   "cell_type": "markdown",
   "id": "bb8799ca-fc58-4e0f-8265-eb7fb2782b8d",
   "metadata": {},
   "source": [
    "### Using Homoegenous Coordinates\n",
    "\n",
    "We can describe the pinhole camera model using homoegenous coordinates as follows\n",
    "\n",
    "$$\n",
    "\\begin{align}\n",
    "\\left(\n",
    "\\begin{array}{c}\n",
    "X \\\\\n",
    "Y \\\\\n",
    "Z \\\\\n",
    "1 \n",
    "\\end{array}\n",
    "\\right)\n",
    "\\longmapsto\n",
    "\\left(\n",
    "\\begin{array}{c}\n",
    "fX \\\\\n",
    "fY \\\\\n",
    "Z \n",
    "\\end{array}\n",
    "\\right)\n",
    "& =\n",
    "\\left[\n",
    "\\begin{array}{cccc}\n",
    "f & & & 0 \\\\\n",
    "& f & & 0 \\\\\n",
    "& & 1 & 0\n",
    "\\end{array}\n",
    "\\right]\n",
    "\\left(\n",
    "\\begin{array}{c}\n",
    "X \\\\\n",
    "Y \\\\\n",
    "Z \\\\\n",
    "1 \n",
    "\\end{array}\n",
    "\\right) \\\\\n",
    "& = \\mathrm{diag}(f,f,1)\\left[\\mathbf{I}\\ |\\ \\mathbf{0}\\right]\n",
    "\\left(\n",
    "\\begin{array}{c}\n",
    "X \\\\\n",
    "Y \\\\\n",
    "Z \\\\\n",
    "1 \n",
    "\\end{array}\n",
    "\\right)\n",
    "\\end{align}\n",
    "$$\n",
    "\n",
    "We set \n",
    "\n",
    "$$\n",
    "\\mathtt{P} = \\mathrm{diag}(f,f,1)\\left[\\mathbf{I}\\ |\\ \\mathbf{0}\\right]\n",
    "$$\n",
    "\n",
    "to denote the projection matrix.  Specifically, we use $\\mathtt{P}$ to map 3D points $\\mathbf{X}$ to image points $\\mathbf{x}$:\n",
    "\n",
    "$$\n",
    "\\mathbf{x} = \\mathtt{P} \\mathbf{X}.\n",
    "$$"
   ]
  },
  {
   "cell_type": "markdown",
   "id": "f1a75f87-1687-47ee-80e1-f98b5afcd4b8",
   "metadata": {},
   "source": [
    "Under these assumptions, $\\mathtt{P}$ has one degree-of-freedom, namely, the parameter $f$."
   ]
  },
  {
   "cell_type": "markdown",
   "id": "01bc12f0-892c-475c-a116-3d4c7b806ed4",
   "metadata": {},
   "source": [
    "### Principal Point Offset\n",
    "\n",
    "<figure style=\"margin-left:auto; margin-right: auto; text-align: center; display: block; max-width: 700px;\">\n",
    "<img src=\"images/principal-point-offset.png\" alt=\"Drawing\" style=\"width: 600px;\"/>\n",
    "    <br/><figcaption>Figure from Multiple View Geometry in Computer Vision, Second Edition</figcaption>\n",
    "</figure>\n",
    "\n",
    "The above discussion assumes that the principal point sits at the origin of the coordinates in the image plane.  Lets relax this assumption.  Say $(p_x, p_y)$ are the coordinates of the principal point.  Then\n",
    "\n",
    "$$\n",
    "\\begin{align}\n",
    "\\left(\n",
    "\\begin{array}{c}\n",
    "X \\\\\n",
    "Y \\\\\n",
    "Z \\\\\n",
    "1 \n",
    "\\end{array}\n",
    "\\right)\n",
    "\\longmapsto\n",
    "\\left(\n",
    "\\begin{array}{c}\n",
    "fX + p_x Z \\\\\n",
    "fY + p_y Z \\\\\n",
    "Z \n",
    "\\end{array}\n",
    "\\right)\n",
    "& =\n",
    "\\left[\n",
    "\\begin{array}{cccc}\n",
    "f & & p_x & 0 \\\\\n",
    "& f & p_y & 0 \\\\\n",
    "& & 1 & 0\n",
    "\\end{array}\n",
    "\\right]\n",
    "\\left(\n",
    "\\begin{array}{c}\n",
    "X \\\\\n",
    "Y \\\\\n",
    "Z \\\\\n",
    "1 \n",
    "\\end{array}\n",
    "\\right) \\\\\n",
    "& = \\mathbf{K} \\left[\\mathbf{I}\\ |\\ \\mathbf{0}\\right]\n",
    "\\mathbf{X}_{\\mathtt{cam}}\n",
    "\\end{align}\n",
    "$$\n",
    "\n",
    "Note $\\mathbf{X}_{\\mathtt{cam}}$.  This captures our assumption that the camera centre is located at the origin of the Euclidean coordinate system (we can think of this as the world coordinate system) with camera pointing straight down the $z$-axis.  $\\mathbf{X}_{\\mathtt{cam}}$ denotes that the point is expressed in the camera coordinate system.\n",
    "\n",
    "In this case, we set projection matrix to \n",
    "\n",
    "$$\n",
    "\\mathtt{P} = \\mathbf{K} \\left[\\mathbf{I}\\ |\\ \\mathbf{0}\\right]\n",
    "$$"
   ]
  },
  {
   "cell_type": "markdown",
   "id": "899f5600-6424-4086-a645-ca345b7fa400",
   "metadata": {},
   "source": [
    "#### Exercise: Degrees of freedom of a projection matrix\n",
    "\n",
    "How many degrees of freedom does a projection matrix have when the camera centre is assumed to be fixed at the origin with the camera pointing straight down the $z$-axis? That is, how many parameters are required to specify a projection matrix $\\mathtt{P}$ uniquely under these assumptions?"
   ]
  },
  {
   "cell_type": "code",
   "execution_count": null,
   "id": "0932d92c-a34c-4017-a0d9-fdfd3ebbde29",
   "metadata": {},
   "outputs": [],
   "source": [
    "%%markdown\n",
    "**Answer:** Your solution here:"
   ]
  },
  {
   "cell_type": "code",
   "execution_count": null,
   "id": "ee1e7681-89da-43f7-8e89-35cbf9ee297e",
   "metadata": {},
   "outputs": [],
   "source": [
    "# %load solutions/01/solution_03.md"
   ]
  },
  {
   "cell_type": "markdown",
   "id": "6577ab42-9565-4f3a-8e83-cbdcc72fb0b6",
   "metadata": {},
   "source": [
    "---\n",
    "Based on materials from Prof. Faisal Qureshi (Faculty of Science, Ontario Tech University, Oshawa ON, Canada, http://vclab.science.ontariotechu.ca)\n",
    "\n",
    "<center>\n",
    "    <tr>\n",
    "    <td><img src=\"images/Quansight_Logo_Lockup_1.png\" width=\"25%\"></img></td>\n",
    "    </tr>\n",
    "</center>"
   ]
  }
 ],
 "metadata": {
  "kernelspec": {
   "display_name": "Python 3 (ipykernel)",
   "language": "python",
   "name": "python3"
  },
  "language_info": {
   "codemirror_mode": {
    "name": "ipython",
    "version": 3
   },
   "file_extension": ".py",
   "mimetype": "text/x-python",
   "name": "python",
   "nbconvert_exporter": "python",
   "pygments_lexer": "ipython3",
   "version": "3.7.12"
  }
 },
 "nbformat": 4,
 "nbformat_minor": 5
}
