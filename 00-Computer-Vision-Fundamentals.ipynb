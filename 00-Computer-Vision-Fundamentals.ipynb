{
 "cells": [
  {
   "cell_type": "markdown",
   "metadata": {},
   "source": [
    "<center>\n",
    "    <tr>\n",
    "    <td><img src=\"images/Quansight_Logo_Lockup_1.png\" width=\"25%\"></img></td>\n",
    "    </tr>\n",
    "</center>"
   ]
  },
  {
   "cell_type": "markdown",
   "metadata": {},
   "source": [
    "# Computer Vision Fundamentals"
   ]
  },
  {
   "cell_type": "markdown",
   "metadata": {},
   "source": [
    "## Outline\n",
    "\n",
    "- Pinhole camera model\n",
    "- Homogeneous coordinates\n",
    "- Intrinsic and extrinsic camera matrices\n",
    "- Lens effects\n",
    "- Camera calibration"
   ]
  },
  {
   "cell_type": "markdown",
   "metadata": {},
   "source": [
    "<figure style=\"margin-left:auto; margin-right: auto; text-align: center; display: block; max-width: 700px;\">\n",
    "<img src=\"images/window-at-le-gras-1826.png\" alt=\"Drawing\" style=\"width: 600px;\"/>\n",
    "</figure>"
   ]
  },
  {
   "cell_type": "markdown",
   "metadata": {},
   "source": [
    "<figure style=\"margin-left:auto; margin-right: auto; text-align: center; display: block; max-width: 700px;\">\n",
    "<img src=\"images/boulevard-du-temple-1838.png\" alt=\"Drawing\" style=\"width: 600px;\"/>\n",
    "</figure>"
   ]
  },
  {
   "cell_type": "markdown",
   "metadata": {},
   "source": [
    "## Camera Obscura\n",
    "\n",
    "Known during the Classical Period (e.g., China c. 470BC)\n",
    "\n",
    "<figure style=\"margin-left:auto; margin-right: auto; text-align: center; display: block; max-width: 700px;\">\n",
    "<img src=\"images/camera-obscura.png\" alt=\"Drawing\" style=\"width: 600px;\"/>\n",
    "</figure>"
   ]
  },
  {
   "cell_type": "markdown",
   "metadata": {},
   "source": [
    "Outside scene imaged on a wall in Prague Castle.  This probably occured due to a small crack on the opposite wall.\n",
    "\n",
    "<figure style=\"margin-left:auto; margin-right: auto; text-align: center; display: block; max-width: 700px;\">\n",
    "<img src=\"images/prague-castle-wall.png\" alt=\"Drawing\" style=\"width: 600px;\"/>\n",
    "    <br/><imgcaption>From Wikipedia.</imgcaption>\n",
    "</figure>"
   ]
  },
  {
   "cell_type": "markdown",
   "metadata": {},
   "source": [
    "## The Pinhole Camera Model\n",
    "\n",
    "### In 2D\n",
    "\n",
    "<figure style=\"margin-left:auto; margin-right: auto; text-align: center; display: block; max-width: 700px;\">\n",
    "<img src=\"images/pinhole2.png\" alt=\"Drawing\" style=\"width: 600px;\"/>\n",
    "</figure>\n",
    "\n",
    "Given $Y$, the height of the object, $Z$, its distance from the pinhole, and $f$, the distance between the pinhole and the image plane (also known as the *focal length*), we want to estimate $y$, the height of the image of this object.\n",
    "\n",
    "Using the *similar triangles* argument, we get\n",
    "\n",
    "$$\n",
    "Y / Z = y / f.\n",
    "$$\n",
    "\n",
    "Re-arranging the above expression yields\n",
    "\n",
    "$$\n",
    "y = f Y / Z.\n",
    "$$\n",
    "\n",
    "### In 3D\n",
    "\n",
    "\n",
    "<figure style=\"margin-left:auto; margin-right: auto; text-align: center; display: block; max-width: 700px;\">\n",
    "<img src=\"images/pinhole4.png\" alt=\"Drawing\" style=\"width: 600px;\"/>\n",
    "</figure>\n",
    "\n",
    "Pinhole model describes the relationship between a 3d point $(X,Y,Z)$ and its imaging location $(x,y)$.  Here $f$ is the distance of the image plane and the pinhole, also known as the focal length, and $Z$ is the distance of the point from the pinhole.  This formulation assumes that pinhole is situated at location $(0,0,0)$, or the *origin*, and the camera's optical axis is aligned with the global z-axis.\n",
    "\n",
    "$$\n",
    "\\left(\n",
    "\\begin{array}{c}\n",
    "X \\\\\n",
    "Y \\\\\n",
    "Z\n",
    "\\end{array}\n",
    "\\right)\n",
    "\\longmapsto\n",
    "\\left(\n",
    "\\begin{array}{c}\n",
    "fX/Z \\\\\n",
    "fY/Z \\\\\n",
    "f\n",
    "\\end{array}\n",
    "\\right)\n",
    "\\leadsto\n",
    "\\left(\n",
    "\\begin{array}{c}\n",
    "fX/Z \\\\\n",
    "fY/Z\n",
    "\\end{array}\n",
    "\\right)\n",
    "$$"
   ]
  },
  {
   "cell_type": "markdown",
   "metadata": {},
   "source": [
    "---\n",
    "Based on materials from Prof. Faisal Qureshi (Faculty of Science, Ontario Tech University, Oshawa ON, Canada, http://vclab.science.ontariotechu.ca)\n",
    "\n",
    "<center>\n",
    "    <tr>\n",
    "    <td><img src=\"images/Quansight_Logo_Lockup_1.png\" width=\"25%\"></img></td>\n",
    "    </tr>\n",
    "</center>"
   ]
  }
 ],
 "metadata": {
  "kernelspec": {
   "display_name": "filesystem-cybera",
   "language": "python",
   "name": "conda-env-filesystem-cybera-py"
  },
  "language_info": {
   "codemirror_mode": {
    "name": "ipython",
    "version": 3
   },
   "file_extension": ".py",
   "mimetype": "text/x-python",
   "name": "python",
   "nbconvert_exporter": "python",
   "pygments_lexer": "ipython3",
   "version": "3.10.4"
  },
  "toc-autonumbering": false,
  "toc-showcode": false,
  "toc-showmarkdowntxt": false,
  "toc-showtags": false
 },
 "nbformat": 4,
 "nbformat_minor": 4
}
