{
 "cells": [
  {
   "cell_type": "markdown",
   "metadata": {},
   "source": [
    "<center>\n",
    "    <tr>\n",
    "    <td><img src=\"images/Quansight_Logo_Lockup_1.png\" width=\"25%\"></img></td>\n",
    "    </tr>\n",
    "</center>"
   ]
  },
  {
   "cell_type": "markdown",
   "metadata": {},
   "source": [
    "# Derivatives and Image Gradients"
   ]
  },
  {
   "cell_type": "markdown",
   "metadata": {
    "tags": []
   },
   "source": [
    "## Outline\n",
    "\n",
    "- Why do we care about image gradients?\n",
    "- Computing image derivatives\n",
    "- Finite difference filters\n",
    "- Gradient magnitude and directions\n",
    "- Visualizing image gradients"
   ]
  },
  {
   "cell_type": "markdown",
   "metadata": {},
   "source": [
    "## Image edges and image derivatives"
   ]
  },
  {
   "cell_type": "code",
   "execution_count": null,
   "metadata": {},
   "outputs": [],
   "source": [
    "import numpy as np\n",
    "import matplotlib.pyplot as plt"
   ]
  },
  {
   "cell_type": "code",
   "execution_count": null,
   "metadata": {},
   "outputs": [],
   "source": [
    "def sigmoid(x, s=1.0, t=0.0):\n",
    "    return 1./(1.+np.exp(-s*(x-t)))"
   ]
  },
  {
   "cell_type": "code",
   "execution_count": null,
   "metadata": {},
   "outputs": [],
   "source": [
    "x = np.linspace(0,10,100)\n",
    "plt.plot(x, sigmoid(x, s=3, t=5));"
   ]
  },
  {
   "cell_type": "code",
   "execution_count": null,
   "metadata": {},
   "outputs": [],
   "source": [
    "# im = np.zeros([100,200])\n",
    "# for i in range(100):\n",
    "#     im[i,:] = np.hstack([sigmoid(x, s=5, t=5), 1-sigmoid(x, s=2.5, t=5)])\n",
    "\n",
    "# The following does exactly what the for-loop shown above does\n",
    "import numpy.matlib as matlab\n",
    "im = matlab.repmat(np.hstack([sigmoid(x, s=5, t=5), 1-sigmoid(x, s=2.5, t=5)]), 100,1)    \n",
    "    \n",
    "plt.figure(figsize=(10,7))\n",
    "plt.imshow(im, cmap='gray')\n",
    "plt.xlabel('Width ($x$)')\n",
    "plt.ylabel('Height ($y$)');"
   ]
  },
  {
   "cell_type": "code",
   "execution_count": null,
   "metadata": {},
   "outputs": [],
   "source": [
    "plt.figure(figsize=(10,12))\n",
    "plt.subplot(211)\n",
    "plt.imshow(im, cmap='gray')\n",
    "plt.title('Image')\n",
    "plt.plot([1,199],[40,40],'r-')\n",
    "plt.xlabel(r'Width ($x$)')\n",
    "plt.ylabel(r'Height ($y$)')\n",
    "plt.subplot(212)\n",
    "plt.title('Row 40')\n",
    "plt.plot(im[40,1:199],'r')\n",
    "plt.xlabel(r'Width ($x$)')\n",
    "plt.ylabel(r'$I(x)$');"
   ]
  },
  {
   "cell_type": "code",
   "execution_count": null,
   "metadata": {},
   "outputs": [],
   "source": [
    "Hx = [1,-1]\n",
    "dx = np.convolve(im[0,:], Hx)\n",
    "d2x = np.convolve(dx, Hx)\n",
    "plt.figure(figsize=(12,15))\n",
    "plt.subplot(311)\n",
    "plt.title('Intensity')\n",
    "plt.plot(im[0,:],'r')\n",
    "plt.xticks([])\n",
    "#plt.xlabel(r'Width ($x$)')\n",
    "plt.ylabel(r'$I(x)$')\n",
    "#plt.plot([100,100],[0,1],'k--')\n",
    "plt.plot([150,150],[0,1],'k--')\n",
    "plt.plot([50,50],[0,1],'k--')\n",
    "plt.subplot(312)\n",
    "#plt.xlabel(r'Width ($x$)')\n",
    "plt.ylabel(r\"$I'(x)$\")\n",
    "plt.title('Derivative')\n",
    "plt.plot(dx)\n",
    "plt.xticks([])\n",
    "#plt.plot([100,100],[-0.04,0.08],'k--')\n",
    "plt.plot([50,50],[-0.06,0.13],'k--')\n",
    "plt.plot([150,150],[-0.06,0.13],'k--')\n",
    "plt.subplot(313)\n",
    "plt.xlabel(r'Width ($x$)')\n",
    "plt.ylabel(r\"$I''(x)$\")\n",
    "plt.title('Second Derivative')\n",
    "plt.plot(d2x)\n",
    "#plt.plot([100,100],[-0.01,0.01],'k--')\n",
    "plt.plot([50,50],[-0.03,0.03],'k--')\n",
    "plt.plot([150,150],[-0.03,0.03],'k--');"
   ]
  },
  {
   "cell_type": "markdown",
   "metadata": {
    "jp-MarkdownHeadingCollapsed": true,
    "tags": []
   },
   "source": [
    "#### Image derviatives highlight edge pixels\n",
    "\n",
    "<center>\n",
    "    <tr>\n",
    "    <td><img src=\"images/square.png\" width=\"75%\"></img></td>\n",
    "    </tr>\n",
    "</center>\n",
    "\n",
    "- Pixels on vertical edges are *highlighted* by derivative wrt $x$.\n",
    "- Pixels on horizontal edges are highlighted in derivative wrt $y$."
   ]
  },
  {
   "cell_type": "markdown",
   "metadata": {
    "tags": []
   },
   "source": [
    "## Computing image derivatives\n",
    "\n",
    "Image gradients capture local changes in the image.  These are a fundamental image processing operation that is required for a number of subsequent image analysis procedures, such as edge detection, segmentation, feature construction, etc.\n",
    "\n",
    "**Option 1**: Reconstruct a continuous function $f$, then compute partial derivatives as follows\n",
    "\n",
    "$$\n",
    "\\frac{\\partial f(x,y)}{\\partial x} = \\lim_{\\epsilon \\to 0} \\frac{f(x+\\epsilon,y) - f(x,y)}{\\epsilon}\n",
    "$$\n",
    "\n",
    "$$\n",
    "\\frac{\\partial f(x,y)}{\\partial y} = \\lim_{\\epsilon \\to 0} \\frac{f(x,y+\\epsilon) - f(x,y)}{\\epsilon}\n",
    "$$\n",
    "\n",
    "**Option 2**: We can use finite difference approximation to estimate image derivatives\n",
    "$$\n",
    "\\frac{\\partial f(x,y)}{\\partial x} \\approx \\frac{f[x+1,y] - f[x,y]}{1}\n",
    "$$\n",
    "\n",
    "$$\n",
    "\\frac{\\partial f(x,y)}{\\partial y} \\approx \\frac{f[x,y+1] - f[x,y]}{1}\n",
    "$$\n",
    "\n",
    "**Observation**: We can compute image derivatives using convolutions (*linear filtering*)"
   ]
  },
  {
   "cell_type": "markdown",
   "metadata": {},
   "source": [
    "### Finite differences are highly sensitive to noise\n",
    "\n",
    "<center>\n",
    "    <tr>\n",
    "    <td><img src=\"images/edge-no-noise.png\" width=\"75%\"></img></td>\n",
    "    </tr>\n",
    "</center>\n",
    "\n",
    "<center>\n",
    "    <tr>\n",
    "    <td><img src=\"images/edge-noise.png\" width=\"75%\"></img></td>\n",
    "    </tr>\n",
    "</center>\n",
    "\n",
    "Use smoothing first to get rid of the high-frequency components as seen below"
   ]
  },
  {
   "cell_type": "markdown",
   "metadata": {},
   "source": [
    "### Image gradient\n",
    "\n",
    "- Image gradient $\\nabla I$ points to the direction of most rapid change in intensity.\n",
    "\n",
    "$$\n",
    "\\nabla I = \\left[ \\begin{array}{rr}\\frac{\\partial I}{\\partial x} & \\frac{\\partial I}{\\partial y} \\end{array}\\right]^T\n",
    "$$\n",
    "\n",
    "- Gradient magnitude (can be used to identify edge pixels)\n",
    "\n",
    "$$\n",
    "\\| \\nabla I \\| = \\sqrt{ \\left( \\frac{\\partial I}{\\partial x} \\right)^2 + \\left( \\frac{\\partial I}{\\partial y} \\right)^2  }\n",
    "$$\n",
    "\n",
    "- Gradient direction (is perpendicular to the underlying edge)\n",
    "\n",
    "$$\n",
    "\\theta = \\tan^{-1} \\left( \\frac{\\partial I}{\\partial y} \\Bigl/\\Bigr. \\frac{\\partial I}{\\partial x}  \\right)\n",
    "$$\n",
    "\n",
    "<center>\n",
    "    <tr>\n",
    "    <td><img src=\"images/square-grad.png\" width=\"75%\"></img></td>\n",
    "    </tr>\n",
    "</center>\n",
    "\n",
    "<center>\n",
    "    <tr>\n",
    "    <td><img src=\"images/circle-grad.png\" width=\"75%\"></img></td>\n",
    "    </tr>\n",
    "</center>"
   ]
  },
  {
   "cell_type": "markdown",
   "metadata": {},
   "source": [
    "---"
   ]
  },
  {
   "cell_type": "markdown",
   "metadata": {},
   "source": [
    "## Finite difference filters"
   ]
  },
  {
   "cell_type": "markdown",
   "metadata": {
    "tags": []
   },
   "source": [
    "#### Kernel for computing image derivative w.r.t. $x$ (width)\n",
    "\n",
    "$$\n",
    "H_x  =  \\left[\n",
    "\\begin{array}{rr}\n",
    "1 & -1 \\\\ \n",
    "\\end{array} \\right]\n",
    "$$"
   ]
  },
  {
   "cell_type": "markdown",
   "metadata": {},
   "source": [
    "#### Kernel for computing image derivative w.r.t. $y$ (height)\n",
    "\n",
    "$$\n",
    "H_y = \\left[\n",
    "\\begin{array}{r}\n",
    "1 \\\\ \n",
    "-1 \\\\ \n",
    "\\end{array} \\right]\n",
    "$$"
   ]
  },
  {
   "cell_type": "markdown",
   "metadata": {
    "tags": []
   },
   "source": [
    "- Derivative wrt $x$ computed by convolving image with kernel $H_x$\n",
    "- Derivative wrt $y$ computed by convolving image with kernel $H_y$."
   ]
  },
  {
   "cell_type": "markdown",
   "metadata": {},
   "source": [
    "### Other filters\n",
    "\n",
    "#### Sobel filters\n",
    "\n",
    "$$\n",
    "H_x = \\left[\\begin{array}{rrr}\n",
    "-1 & 0 & 1 \\\\\n",
    "-2 & 0 & 2 \\\\\n",
    "-1 & 0 & 1\n",
    "\\end{array}\\right]\n",
    "\\mathrm{\\ and\\ }\n",
    "H_y = \\left[\\begin{array}{rrr}\n",
    "1 & 2 & 1 \\\\\n",
    "0 & 0 & 0 \\\\\n",
    "-1 & -2 & -1\n",
    "\\end{array}\\right]\n",
    "$$\n",
    "\n",
    "#### Prewire\n",
    "\n",
    "$$\n",
    "H_x = \\left[\\begin{array}{rrr}\n",
    "-1 & 0 & 1 \\\\\n",
    "-1 & 0 & 1 \\\\\n",
    "-1 & 0 & 1\n",
    "\\end{array}\\right]\n",
    "\\mathrm{\\ and\\ }\n",
    "H_y = \\left[\\begin{array}{rrr}\n",
    "1 & 1 & 1 \\\\\n",
    "0 & 0 & 0 \\\\\n",
    "-1 & -1 & -1\n",
    "\\end{array}\\right]\n",
    "$$\n",
    "\n",
    "#### Roberts\n",
    "\n",
    "$$\n",
    "H_x = \\left[\\begin{array}{rr}\n",
    "0 & 1 \\\\\n",
    "-1 & 0\n",
    "\\end{array}\\right]\n",
    "\\mathrm{\\ and\\ }\n",
    "H_y = \\left[\\begin{array}{rr}\n",
    "1 & 0 \\\\\n",
    "0 & -1\n",
    "\\end{array}\\right]\n",
    "$$"
   ]
  },
  {
   "cell_type": "markdown",
   "metadata": {},
   "source": [
    "### Differentiation using convolution\n",
    "<center>\n",
    "    <tr>\n",
    "    <td><img src=\"images/edge-smoothed.png\" width=\"75%\"></img></td>\n",
    "    </tr>\n",
    "</center>"
   ]
  },
  {
   "cell_type": "markdown",
   "metadata": {
    "jp-MarkdownHeadingCollapsed": true,
    "tags": []
   },
   "source": [
    "### Speeding up\n",
    "\n",
    "<center>\n",
    "    <tr>\n",
    "    <td><img src=\"images/edge-speedup-1.png\" width=\"75%\"></img></td>\n",
    "    </tr>\n",
    "</center>\n",
    "\n",
    "<center>\n",
    "    <tr>\n",
    "    <td><img src=\"images/edge-speedup-2.png\" width=\"75%\"></img></td>\n",
    "    </tr>\n",
    "</center>"
   ]
  },
  {
   "cell_type": "markdown",
   "metadata": {
    "tags": []
   },
   "source": [
    "## Code Examples"
   ]
  },
  {
   "cell_type": "code",
   "execution_count": null,
   "metadata": {},
   "outputs": [],
   "source": [
    "import cv2\n",
    "import numpy as np\n",
    "import scipy as sp\n",
    "from scipy import signal\n",
    "import matplotlib.pyplot as plt\n",
    "%matplotlib inline"
   ]
  },
  {
   "cell_type": "markdown",
   "metadata": {},
   "source": [
    "## Effects of noise - code"
   ]
  },
  {
   "cell_type": "code",
   "execution_count": null,
   "metadata": {},
   "outputs": [],
   "source": [
    "# 1D kernel for computing derivatives\n",
    "Hx = np.array([1,-1], dtype='float32')"
   ]
  },
  {
   "cell_type": "code",
   "execution_count": null,
   "metadata": {},
   "outputs": [],
   "source": [
    "np.random.seed(0)\n",
    "\n",
    "x = np.linspace(0,100,101)\n",
    "y = np.ones(x.shape)*10\n",
    "y[x <= 50] = 0\n",
    "plt.figure(figsize=(20,5))\n",
    "plt.plot(x, y, 'r.')\n",
    "plt.plot(x, y, 'b')\n",
    "plt.xticks([])\n",
    "plt.yticks([])"
   ]
  },
  {
   "cell_type": "code",
   "execution_count": null,
   "metadata": {},
   "outputs": [],
   "source": [
    "plt.figure(figsize=(20,5))\n",
    "dy = np.convolve(y, Hx, 'same')\n",
    "plt.plot(x, dy, 'b')\n",
    "plt.xticks([])\n",
    "plt.yticks([])"
   ]
  },
  {
   "cell_type": "markdown",
   "metadata": {},
   "source": [
    "### Creating a noisy signal"
   ]
  },
  {
   "cell_type": "code",
   "execution_count": null,
   "metadata": {},
   "outputs": [],
   "source": [
    "x = np.linspace(0,1000,1001)\n",
    "yn = np.ones(x.shape)*9\n",
    "yn[x <= 500] = 0\n",
    "yn = yn + np.random.rand(yn.shape[0])*8\n",
    "\n",
    "plt.figure(figsize=(20,5))\n",
    "plt.plot(x, yn, 'r.')\n",
    "plt.plot(x, yn, 'b')\n",
    "plt.xticks([])\n",
    "plt.yticks([])"
   ]
  },
  {
   "cell_type": "markdown",
   "metadata": {},
   "source": [
    "### Edge finding in noisy signal"
   ]
  },
  {
   "cell_type": "code",
   "execution_count": null,
   "metadata": {},
   "outputs": [],
   "source": [
    "dyn = np.convolve(yn, Hx, 'same')\n",
    "plt.figure(figsize=(20,5))\n",
    "plt.plot(x, dyn, 'b')\n",
    "plt.xticks([])\n",
    "plt.yticks([])"
   ]
  },
  {
   "cell_type": "markdown",
   "metadata": {},
   "source": [
    "### 1D Gaussian - recap"
   ]
  },
  {
   "cell_type": "code",
   "execution_count": null,
   "metadata": {},
   "outputs": [],
   "source": [
    "s = 4\n",
    "ticks = np.linspace(-s,s,2*s+1)\n",
    "\n",
    "gxx = np.linspace(-40,40,801)\n",
    "mu = 0\n",
    "sigma = 5\n",
    "g = np.exp(- (gxx-mu)**2 / (2*(sigma**2)) ) / ( 2 * np.pi * sigma)\n",
    "\n",
    "plt.figure(figsize=(20,5))\n",
    "plt.plot(gxx, g, 'k', linewidth=5)\n",
    "plt.xlim([-s*sigma, s*sigma])\n",
    "plt.yticks([])\n",
    "plt.title(r'Gaussian.  ($\\mu=0, \\sigma=5$)');"
   ]
  },
  {
   "cell_type": "markdown",
   "metadata": {},
   "source": [
    "### 1D Gaussian - First Derivative"
   ]
  },
  {
   "cell_type": "code",
   "execution_count": null,
   "metadata": {},
   "outputs": [],
   "source": [
    "dg = np.convolve(g, Hx, 'same')\n",
    "\n",
    "plt.figure(figsize=(20,5))\n",
    "plt.plot(gxx, dg, 'k', linewidth=5)\n",
    "plt.xlim([-s*sigma, s*sigma])\n",
    "plt.yticks([])\n",
    "plt.title(r'Gaussian 1st derivative.  ($\\mu=0, \\sigma=5$)');"
   ]
  },
  {
   "cell_type": "markdown",
   "metadata": {},
   "source": [
    "### 1D Guassian - Second Derviative"
   ]
  },
  {
   "cell_type": "code",
   "execution_count": null,
   "metadata": {},
   "outputs": [],
   "source": [
    "ddg = np.convolve(dg, Hx, 'same')\n",
    "\n",
    "plt.figure(figsize=(20,5))\n",
    "plt.plot(gxx, ddg, 'k', linewidth=5)\n",
    "plt.xlim([-s*sigma, s*sigma])\n",
    "plt.yticks([])\n",
    "plt.title(r'Gaussian 2nd derivative.  ($\\mu=0, \\sigma=5$)');"
   ]
  },
  {
   "cell_type": "markdown",
   "metadata": {},
   "source": [
    "### Setting up Gaussian and Gaussian derivative"
   ]
  },
  {
   "cell_type": "code",
   "execution_count": null,
   "metadata": {},
   "outputs": [],
   "source": [
    "gxx = np.linspace(-20,20,41)\n",
    "mu = 0\n",
    "sigma = 7\n",
    "g = np.exp(- (gxx-mu)**2 / (2*(sigma**2)) ) / ( 2 * np.pi * sigma)\n",
    "plt.figure(figsize=(20,5))\n",
    "plt.plot(gxx, g)\n",
    "plt.xticks([])\n",
    "plt.yticks([])\n",
    "plt.title('Gaussian');"
   ]
  },
  {
   "cell_type": "code",
   "execution_count": null,
   "metadata": {},
   "outputs": [],
   "source": [
    "dg = np.convolve(g, Hx, 'same')\n",
    "plt.figure(figsize=(20,5))\n",
    "plt.plot(gxx, dg)\n",
    "plt.xticks([])\n",
    "plt.yticks([])\n",
    "plt.title('First derivative of Gaussian');"
   ]
  },
  {
   "cell_type": "markdown",
   "metadata": {},
   "source": [
    "### Gaussian smoothing"
   ]
  },
  {
   "cell_type": "code",
   "execution_count": null,
   "metadata": {},
   "outputs": [],
   "source": [
    "gyn = np.convolve(yn, g, 'same')\n",
    "plt.figure(figsize=(20,5))\n",
    "plt.plot(x[5:-15], gyn[5:-15])\n",
    "plt.plot(x[5:-15], gyn[5:-15],'r.')\n",
    "plt.xticks([])\n",
    "plt.yticks([])\n",
    "plt.title('Signal smoothed with Gaussian');"
   ]
  },
  {
   "cell_type": "markdown",
   "metadata": {},
   "source": [
    "### Compute derivative of smoothed signal"
   ]
  },
  {
   "cell_type": "code",
   "execution_count": null,
   "metadata": {},
   "outputs": [],
   "source": [
    "dgyn = np.convolve(gyn, Hx, 'same')\n",
    "plt.figure(figsize=(20,5))\n",
    "plt.plot(x[5:-15], dgyn[5:-15], 'b')\n",
    "plt.xticks([])\n",
    "plt.yticks([])\n",
    "plt.title('Derivative of smoothed signal');"
   ]
  },
  {
   "cell_type": "markdown",
   "metadata": {},
   "source": [
    "### Smooth signal with derivative of Gaussian\n",
    "\n",
    "Convolve noisy signal with derivative of Gaussian (saving one convolution operation)"
   ]
  },
  {
   "cell_type": "code",
   "execution_count": null,
   "metadata": {},
   "outputs": [],
   "source": [
    "dgyn2 = np.convolve(dg, yn, 'same')\n",
    "plt.figure(figsize=(20,5))\n",
    "plt.plot(x[5:-15], dgyn2[5:-15], 'b')\n",
    "plt.xticks([])\n",
    "plt.yticks([])\n",
    "plt.title('Signal convolution with first derivative of Gaussian');"
   ]
  },
  {
   "cell_type": "markdown",
   "metadata": {},
   "source": [
    "---"
   ]
  },
  {
   "cell_type": "markdown",
   "metadata": {},
   "source": [
    "## Kernel for computing image gradients"
   ]
  },
  {
   "cell_type": "code",
   "execution_count": null,
   "metadata": {},
   "outputs": [],
   "source": [
    "# flipped since convolution is flips\n",
    "\n",
    "Hx = np.array([[1,-1]], dtype='float32')\n",
    "Hy = np.array([[1],[-1]], dtype='float32')\n",
    "\n",
    "plt.imshow(Hx, cmap='gray', interpolation='none')\n",
    "plt.xticks([])\n",
    "plt.yticks([]);"
   ]
  },
  {
   "cell_type": "code",
   "execution_count": null,
   "metadata": {},
   "outputs": [],
   "source": [
    "plt.imshow(Hy, cmap='gray', interpolation='none')\n",
    "plt.xticks([])\n",
    "plt.yticks([]);"
   ]
  },
  {
   "cell_type": "markdown",
   "metadata": {},
   "source": [
    "## Square"
   ]
  },
  {
   "cell_type": "code",
   "execution_count": null,
   "metadata": {},
   "outputs": [],
   "source": [
    "square = np.zeros((32,32), dtype='float32')\n",
    "square[8:8+16, 8:8+16] = 1.0\n",
    "\n",
    "plt.imshow(square, cmap='gray', interpolation='none')\n",
    "plt.xticks([])\n",
    "plt.yticks([]);"
   ]
  },
  {
   "cell_type": "code",
   "execution_count": null,
   "metadata": {},
   "outputs": [],
   "source": [
    "Hx_square = sp.signal.convolve2d(square, Hx, 'same')\n",
    "\n",
    "plt.imshow(Hx_square, cmap='gray', interpolation='none')\n",
    "plt.xticks([])\n",
    "plt.yticks([]);"
   ]
  },
  {
   "cell_type": "code",
   "execution_count": null,
   "metadata": {},
   "outputs": [],
   "source": [
    "Hy_square = sp.signal.convolve2d(square, Hy, 'same')\n",
    "\n",
    "plt.imshow(Hy_square, cmap='gray', interpolation='none')\n",
    "plt.xticks([])\n",
    "plt.yticks([]);"
   ]
  },
  {
   "cell_type": "markdown",
   "metadata": {},
   "source": [
    "### Gradient magnitude"
   ]
  },
  {
   "cell_type": "code",
   "execution_count": null,
   "metadata": {},
   "outputs": [],
   "source": [
    "plt.figure(figsize=(15,5))\n",
    "plt.subplot(131)\n",
    "plt.imshow(square, cmap='gray', interpolation='none')\n",
    "plt.xticks([])\n",
    "plt.yticks([])\n",
    "plt.title('Square')\n",
    "plt.subplot(132)\n",
    "plt.imshow(Hx_square, cmap='gray', interpolation='none')\n",
    "plt.xticks([])\n",
    "plt.yticks([])\n",
    "plt.title('X derivative')\n",
    "plt.subplot(133)\n",
    "plt.imshow(Hy_square, cmap='gray', interpolation='none')\n",
    "plt.xticks([])\n",
    "plt.yticks([])\n",
    "plt.title('Y derivative');"
   ]
  },
  {
   "cell_type": "code",
   "execution_count": null,
   "metadata": {},
   "outputs": [],
   "source": [
    "square_grad_mag = np.sqrt(np.square(Hx_square) + np.square(Hy_square))\n",
    "plt.figure(figsize=(10,10))\n",
    "plt.imshow(square_grad_mag, cmap='gray', interpolation='none')\n",
    "\n",
    "plt.xticks([])\n",
    "plt.yticks([])\n",
    "plt.title('Gradient magnitude');"
   ]
  },
  {
   "cell_type": "markdown",
   "metadata": {},
   "source": [
    "### Gradient direction"
   ]
  },
  {
   "cell_type": "code",
   "execution_count": null,
   "metadata": {},
   "outputs": [],
   "source": [
    "square_grad_angle = np.arctan2(Hy_square, Hx_square)\n",
    "\n",
    "plt.figure(figsize=(10,10))\n",
    "x_c, y_c = np.linspace(0,31,32), np.linspace(0,31,32)\n",
    "xx, yy = np.meshgrid(x_c, y_c)\n",
    "plt.quiver(xx, yy, Hx_square, Hy_square, scale=25, color='red', width=.005)\n",
    "plt.imshow(square, cmap='gray')\n",
    "plt.title('Gradient')\n",
    "plt.xticks([])\n",
    "plt.yticks([]);"
   ]
  },
  {
   "cell_type": "code",
   "execution_count": null,
   "metadata": {},
   "outputs": [],
   "source": [
    "plt.figure(figsize=(20,10))\n",
    "plt.subplot(121)\n",
    "plt.imshow(square_grad_mag, cmap='gray', interpolation='none')\n",
    "plt.xticks([])\n",
    "plt.yticks([])\n",
    "plt.title('Gradient magnitude')\n",
    "plt.subplot(122)\n",
    "plt.quiver(xx, yy, Hx_square, Hy_square, scale=25, color='red', width=.005)\n",
    "plt.imshow(square, cmap='gray')\n",
    "plt.xticks([])\n",
    "plt.yticks([])\n",
    "plt.title('Gradient');"
   ]
  },
  {
   "cell_type": "markdown",
   "metadata": {},
   "source": [
    "## Circle"
   ]
  },
  {
   "cell_type": "code",
   "execution_count": null,
   "metadata": {},
   "outputs": [],
   "source": [
    "s = 128\n",
    "circle = np.zeros((s,s), dtype='float32')\n",
    "\n",
    "import math\n",
    "cx, cy = 128./2, 128./2\n",
    "for i in range(0, s-1):\n",
    "    for j in range(0, s-1):\n",
    "        if math.sqrt( (cx - i)**2 + (cy - j)**2 ) < 128./4:\n",
    "            circle[i,j] = 1.0\n",
    "            \n",
    "plt.imshow(circle, cmap='gray', interpolation='none')\n",
    "plt.xticks([])\n",
    "plt.yticks([]);"
   ]
  },
  {
   "cell_type": "code",
   "execution_count": null,
   "metadata": {},
   "outputs": [],
   "source": [
    "Hx = np.array([[1,0,-1],[2,0,-2],[1,0,-1]])\n",
    "\n",
    "Hx_circle = sp.signal.convolve2d(circle, Hx, 'same')\n",
    "\n",
    "plt.imshow(Hx_circle, cmap='gray', interpolation='none')\n",
    "plt.xticks([])\n",
    "plt.yticks([]);"
   ]
  },
  {
   "cell_type": "code",
   "execution_count": null,
   "metadata": {},
   "outputs": [],
   "source": [
    "Hy = np.array([[1,2,1],[0,0,0],[-1,-2,-1]])\n",
    "\n",
    "Hy_circle = sp.signal.convolve2d(circle, Hy, 'same')\n",
    "\n",
    "plt.imshow(Hy_circle, cmap='gray', interpolation='none')\n",
    "plt.xticks([])\n",
    "plt.yticks([]);"
   ]
  },
  {
   "cell_type": "code",
   "execution_count": null,
   "metadata": {},
   "outputs": [],
   "source": [
    "plt.figure(figsize=(15,5))\n",
    "plt.subplot(131)\n",
    "plt.imshow(circle, cmap='gray', interpolation='none')\n",
    "plt.xticks([])\n",
    "plt.yticks([])\n",
    "plt.title('Circle')\n",
    "plt.subplot(132)\n",
    "plt.imshow(Hx_circle, cmap='gray', interpolation='none')\n",
    "plt.xticks([])\n",
    "plt.yticks([])\n",
    "plt.title('X derivative')\n",
    "\n",
    "plt.subplot(133)\n",
    "plt.imshow(Hy_circle, cmap='gray', interpolation='none')\n",
    "plt.xticks([])\n",
    "plt.yticks([])\n",
    "plt.title('Y derivative');\n",
    "\n",
    "\n"
   ]
  },
  {
   "cell_type": "markdown",
   "metadata": {},
   "source": [
    "### Gradient magnitude"
   ]
  },
  {
   "cell_type": "code",
   "execution_count": null,
   "metadata": {},
   "outputs": [],
   "source": [
    "circle_grad_mag = np.sqrt(np.square(Hx_circle) + np.square(Hy_circle))\n",
    "plt.figure(figsize=(10,10))\n",
    "plt.imshow(circle_grad_mag, cmap='gray', interpolation='none')\n",
    "plt.xticks([])\n",
    "plt.yticks([])\n",
    "plt.title('Gradient magnitude');"
   ]
  },
  {
   "cell_type": "markdown",
   "metadata": {},
   "source": [
    "### Gradient direction"
   ]
  },
  {
   "cell_type": "code",
   "execution_count": null,
   "metadata": {},
   "outputs": [],
   "source": [
    "circle_grad_angle = np.arctan2(Hy_circle, Hx_circle)\n",
    "\n",
    "plt.figure(figsize=(10,10))\n",
    "x_c, y_c = np.linspace(0,127,128), np.linspace(0,127,128)\n",
    "xx, yy = np.meshgrid(x_c, y_c)\n",
    "plt.quiver(xx, yy, Hx_circle, Hy_circle, scale=500, color='red')\n",
    "#plt.imshow(circle, cmap='gray')\n",
    "plt.title('Gradient')\n",
    "plt.xticks([])\n",
    "plt.yticks([]);"
   ]
  },
  {
   "cell_type": "code",
   "execution_count": null,
   "metadata": {},
   "outputs": [],
   "source": [
    "plt.figure(figsize=(30,10))\n",
    "plt.subplot(121)\n",
    "plt.imshow(circle_grad_mag, cmap='gray', interpolation='none')\n",
    "plt.xticks([])\n",
    "plt.yticks([])\n",
    "plt.title('Gradient magnitude')\n",
    "\n",
    "plt.plot([64,104],[64,64], 'r')\n",
    "plt.plot([64,104],[64-40,64-40], 'r')\n",
    "plt.plot([64,64],[64,64-40], 'r')\n",
    "plt.plot([104,104],[64,64-40], 'r')\n",
    "\n",
    "plt.subplot(122)\n",
    "# x_c, y_c = np.linspace(0,127,128), np.linspace(0,127,128)\n",
    "# xx, yy = np.meshgrid(x_c, y_c)\n",
    "# plt.quiver(xx, yy, Hx_circle, Hy_circle, scale=500, color='red')\n",
    "# plt.imshow(circle, cmap='gray')\n",
    "# plt.title('Gradient')\n",
    "# plt.xticks([])\n",
    "# plt.yticks([])\n",
    "# plt.subplot(133)\n",
    "x_c, y_c = np.linspace(64,104,40), np.linspace(64,104,40)\n",
    "xx, yy = np.meshgrid(x_c, y_c)\n",
    "plt.quiver(xx, yy, Hx_circle[64:104,64:104], Hy_circle[64:104,64:104], scale=150, color='red')\n",
    "#plt.imshow(circle[64:104,64:104], cmap='gray')\n",
    "plt.title('Gradient')\n",
    "plt.axis('equal')\n",
    "plt.xticks([])\n",
    "plt.yticks([]);"
   ]
  },
  {
   "cell_type": "markdown",
   "metadata": {},
   "source": [
    "## Using color to visualize image gradients"
   ]
  },
  {
   "cell_type": "code",
   "execution_count": null,
   "metadata": {},
   "outputs": [],
   "source": [
    "hsv = np.zeros([circle.shape[0],circle.shape[0],3], dtype=np.uint8)\n",
    "hsv[..., 1] = 255\n",
    "\n",
    "mag, ang = cv2.cartToPolar(Hx_circle[...], Hy_circle[...])\n",
    "# print(hsv.shape)\n",
    "# print(mag.shape)\n",
    "# print(ang.shape)\n",
    "hsv[..., 0] = ang * 180 / np.pi / 2\n",
    "hsv[..., 2] = cv2.normalize(mag, None, 0, 255, cv2.NORM_MINMAX)\n",
    "bgr = cv2.cvtColor(hsv, cv2.COLOR_HSV2BGR)\n",
    "\n",
    "plt.figure(figsize=(20,10))\n",
    "plt.subplot(121)\n",
    "plt.imshow(bgr)\n",
    "plt.xticks([])\n",
    "plt.yticks([])\n",
    "\n",
    "plt.subplot(122)\n",
    "width = 1000\n",
    "x = np.linspace(width, -width, width*2+1)\n",
    "y = np.linspace(width, -width, width*2+1)\n",
    "xx, yy = np.meshgrid(x, y)\n",
    "\n",
    "hsv = np.zeros([x.shape[0], y.shape[0], 3], dtype='uint8')\n",
    "hsv[..., 1] = 255\n",
    "\n",
    "mag, ang = cv2.cartToPolar(xx[...], yy[...])\n",
    "# print(hsv.shape)\n",
    "# print(mag.shape)\n",
    "# print(ang.shape)\n",
    "hsv[..., 0] = ang * 180 / np.pi / 2\n",
    "hsv[..., 2] = cv2.normalize(mag, None, 0, 255, cv2.NORM_MINMAX)\n",
    "bgr = cv2.cvtColor(hsv, cv2.COLOR_HSV2BGR)\n",
    "plt.imshow(bgr)\n",
    "plt.xticks([])\n",
    "plt.yticks([]);"
   ]
  },
  {
   "cell_type": "markdown",
   "metadata": {},
   "source": [
    "---\n",
    "Based on materials from Prof. Faisal Qureshi (Faculty of Science, Ontario Tech University, Oshawa ON, Canada, http://vclab.science.ontariotechu.ca)\n",
    "\n",
    "<center>\n",
    "    <tr>\n",
    "    <td><img src=\"images/Quansight_Logo_Lockup_1.png\" width=\"25%\"></img></td>\n",
    "    </tr>\n",
    "</center>"
   ]
  }
 ],
 "metadata": {
  "kernelspec": {
   "display_name": "Python 3 (ipykernel)",
   "language": "python",
   "name": "python3"
  },
  "language_info": {
   "codemirror_mode": {
    "name": "ipython",
    "version": 3
   },
   "file_extension": ".py",
   "mimetype": "text/x-python",
   "name": "python",
   "nbconvert_exporter": "python",
   "pygments_lexer": "ipython3",
   "version": "3.7.12"
  },
  "toc-autonumbering": false,
  "toc-showcode": false,
  "toc-showmarkdowntxt": false,
  "toc-showtags": false
 },
 "nbformat": 4,
 "nbformat_minor": 4
}
