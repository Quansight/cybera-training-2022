{
 "cells": [
  {
   "cell_type": "markdown",
   "metadata": {},
   "source": [
    "<center>\n",
    "    <tr>\n",
    "    <td><img src=\"images/Quansight_Logo_Lockup_1.png\" width=\"25%\"></img></td>\n",
    "    </tr>\n",
    "</center>"
   ]
  },
  {
   "cell_type": "markdown",
   "metadata": {},
   "source": [
    "# Filter Banks & Texture Analysis"
   ]
  },
  {
   "cell_type": "markdown",
   "metadata": {
    "jupyter": {
     "source_hidden": true
    },
    "tags": []
   },
   "source": [
    "+ Basic approach: apply *filter banks*—sequence of pre-determined filters (kernels) of varying characteristics—to signals (images)\n",
    "+ Permits encoding of images in *feature vectors* of fixed length\n",
    "+ Applied, e.g., to [texture classification](https://www.robots.ox.ac.uk/~vgg/research/texclass/filters.html)"
   ]
  },
  {
   "cell_type": "markdown",
   "metadata": {
    "jupyter": {
     "source_hidden": true
    },
    "tags": []
   },
   "source": [
    "## The Leung-Malik (LM) Filter Bank\n",
    "\n",
    "The LM set is a multi-scale, multi-orientation filter bank with 48 filters. It consists of first and second derivatives of Gaussians at 6 orientations and 3 scales making a total of 36; 8 Laplacian of Gaussian (LOG) filters; and 4 Gaussians. \n",
    "\n",
    "LM  Small (LMS) filters occur at scales $\\sigma = \\{1, \\sqrt{2}, 2, 2 \\sqrt{2} \\}$.  The first and second derivates occur at the first three scales with an elongation factor of 3 (i.e., $\\sigma_x = \\sigma$ and $\\sigma_y = 3 \\sigma$).  The Gaussians occuer at four basic scales.  The 8 LOG occur at $\\sigma$ and $3 \\sigma$.\n",
    "\n",
    "<br/>\n",
    "<center>\n",
    "    <tr>\n",
    "    <td><img src=\"images/lmfilters.jpg\" width=\"75%\"></img></td>\n",
    "    </tr><br/>\n",
    "    Figure from https://www.robots.ox.ac.uk/~vgg/research/texclass/filters.html.</center>\n",
    "<br/>\n",
    "\n",
    "LM Large (LML) filters occur at scales $\\sigma = \\{ \\sqrt{2},2,2\\sqrt{2},4 \\}$."
   ]
  },
  {
   "cell_type": "markdown",
   "metadata": {
    "jupyter": {
     "source_hidden": true
    },
    "tags": []
   },
   "source": [
    "### Constructing the LM Filter Bank"
   ]
  },
  {
   "cell_type": "code",
   "execution_count": null,
   "metadata": {
    "jupyter": {
     "source_hidden": true
    }
   },
   "outputs": [],
   "source": [
    "import numpy as np\n",
    "import pandas as pd\n",
    "import cv2 as cv\n",
    "import matplotlib.pyplot as plt\n",
    "import scipy as sp\n",
    "from scipy import signal\n",
    "from scipy import io\n",
    "from scipy.spatial import distance"
   ]
  },
  {
   "cell_type": "code",
   "execution_count": null,
   "metadata": {
    "jupyter": {
     "source_hidden": true
    }
   },
   "outputs": [],
   "source": [
    "F = sp.io.loadmat('data/lm.mat') # Load data from Matlab .mat format\n",
    "# ... examine contents of F"
   ]
  },
  {
   "cell_type": "code",
   "execution_count": null,
   "metadata": {
    "jupyter": {
     "source_hidden": true
    }
   },
   "outputs": [],
   "source": [
    "filter_bank = F['LM']\n",
    "nr = 4\n",
    "nc = 48//nr\n",
    "plt.figure(figsize=(14,5))\n",
    "plt.suptitle('Leung-Malik Filter Bank')\n",
    "for i in range(48):\n",
    "    plt.subplot(nr, nc, i+1)\n",
    "    fig = plt.imshow(filter_bank[:,:,i], cmap='gray')\n",
    "    fig.axes.get_xaxis().set_visible(False)\n",
    "    fig.axes.get_yaxis().set_visible(False)\n",
    "plt.show()    "
   ]
  },
  {
   "cell_type": "code",
   "execution_count": null,
   "metadata": {
    "jupyter": {
     "source_hidden": true
    }
   },
   "outputs": [],
   "source": [
    "feature_vectors = np.empty((4,48))  # We will use this to store feature vectors."
   ]
  },
  {
   "cell_type": "code",
   "execution_count": null,
   "metadata": {
    "jupyter": {
     "source_hidden": true
    }
   },
   "outputs": [],
   "source": [
    "filenames = [\n",
    "    'data/textures/banded_0023.jpg',\n",
    "    'data/textures/interlaced_0201.jpg',\n",
    "    'data/textures/knitted_0204.jpg',\n",
    "    'data/textures/lined_0177.jpg', \n",
    "    'data/textures/sprinkled_0144.jpg', \n",
    "    'data/textures/studded_0217.jpg', \n",
    "    'data/textures/woven_0131.jpg', \n",
    "    'data/textures/zigzagged_0133.jpg',\n",
    "    'data/textures/matted_0166.jpg'\n",
    "]"
   ]
  },
  {
   "cell_type": "code",
   "execution_count": null,
   "metadata": {
    "jupyter": {
     "source_hidden": true
    }
   },
   "outputs": [],
   "source": [
    "# Examine a single file from the list\n",
    "f_idx = 1\n",
    "\n",
    "im = cv.imread(filenames[f_idx], 0)\n",
    "print(im.shape)\n",
    "\n",
    "plt.figure(figsize=(5,5))\n",
    "plt.title(filenames[f_idx])\n",
    "plt.imshow(im, cmap='gray');"
   ]
  },
  {
   "cell_type": "code",
   "execution_count": null,
   "metadata": {
    "jupyter": {
     "source_hidden": true
    }
   },
   "outputs": [],
   "source": [
    "# Allocate space to store convolutions of all filters with this image\n",
    "w, h = im.shape\n",
    "_, _, num_filters = filter_bank.shape\n",
    "responses = np.empty([w, h, num_filters])\n",
    "print(responses.shape)"
   ]
  },
  {
   "cell_type": "code",
   "execution_count": null,
   "metadata": {
    "jupyter": {
     "source_hidden": true
    }
   },
   "outputs": [],
   "source": [
    "for i in range(num_filters):\n",
    "    responses[:,:,i] = sp.signal.convolve(im, filter_bank[:,:,i], mode='same')"
   ]
  },
  {
   "cell_type": "code",
   "execution_count": null,
   "metadata": {
    "jupyter": {
     "source_hidden": true
    }
   },
   "outputs": [],
   "source": [
    "plt.figure(figsize=(14,5))\n",
    "plt.suptitle('LM filter responses')\n",
    "for i in range(48):\n",
    "    plt.subplot(nr, nc, i+1)\n",
    "    fig = plt.imshow(responses[:,:,i], cmap='gray')\n",
    "    fig.axes.get_xaxis().set_visible(False)\n",
    "    fig.axes.get_yaxis().set_visible(False)\n",
    "plt.show() "
   ]
  },
  {
   "cell_type": "code",
   "execution_count": null,
   "metadata": {
    "jupyter": {
     "source_hidden": true
    }
   },
   "outputs": [],
   "source": [
    "# Prepare feature vectors from each convolution:\n",
    "# means & standard deviations of each response\n",
    "mean_fv = np.mean(responses,(0,1)).flatten()\n",
    "std_fv = np.std(responses,(0,1)).flatten()\n",
    "feature_vector = np.hstack((mean_fv, std_fv))\n",
    "print(f'{feature_vector.shape}')"
   ]
  },
  {
   "cell_type": "code",
   "execution_count": null,
   "metadata": {
    "jupyter": {
     "source_hidden": true
    }
   },
   "outputs": [],
   "source": [
    "# View feature vector for this image as bar plot\n",
    "plt.figure(figsize=(10,5))\n",
    "plt.bar(np.arange(len(feature_vector)), feature_vector, color='red')\n",
    "plt.title(f'{filenames[f_idx]}');"
   ]
  },
  {
   "cell_type": "code",
   "execution_count": null,
   "metadata": {
    "jupyter": {
     "source_hidden": true
    }
   },
   "outputs": [],
   "source": [
    "# Encode all previous steps into a function that loops over all files\n",
    "# This time, feature vectors store means only\n",
    "def make_responses(filter_bank, filenames):\n",
    "    _, _, num_filters = filter_bank.shape        \n",
    "    num_files = len(filenames)\n",
    "\n",
    "    feature_vectors = np.empty((num_files, num_filters))\n",
    "    \n",
    "    for i in range(num_files):\n",
    "        filename = filenames[i]\n",
    "        print(f'Processing {filename}')\n",
    "\n",
    "        im = cv.imread(filename, 0)\n",
    "        for j in range(num_filters):\n",
    "            feature_vectors[i,j] = np.mean(sp.signal.convolve(im, filter_bank[:,:,j], mode='same'))\n",
    "    \n",
    "    return feature_vectors"
   ]
  },
  {
   "cell_type": "code",
   "execution_count": null,
   "metadata": {
    "jupyter": {
     "source_hidden": true
    }
   },
   "outputs": [],
   "source": [
    "feature_vectors = make_responses(filter_bank, filenames)\n",
    "print(feature_vectors.shape)"
   ]
  },
  {
   "cell_type": "code",
   "execution_count": null,
   "metadata": {
    "jupyter": {
     "source_hidden": true
    }
   },
   "outputs": [],
   "source": [
    "x = np.arange(48)\n",
    "\n",
    "plt.figure(figsize=(10,5))\n",
    "for k,c in enumerate(list('rbgc')):\n",
    "    plt.bar(x, feature_vectors[k,:], color=c, alpha=0.3, label=f'{filenames[k]}')\n",
    "plt.legend()\n",
    "plt.title('Overlay of feature vectors (4 files)');"
   ]
  },
  {
   "cell_type": "code",
   "execution_count": null,
   "metadata": {
    "jupyter": {
     "source_hidden": true
    }
   },
   "outputs": [],
   "source": [
    "pairwise_distances = distance.pdist(feature_vectors, 'euclidean')\n",
    "print(pairwise_distances.shape) # Returns upper triangle of symmetric matrix as a 1D array\n",
    "print(pairwise_distances) # Upper triangular portion of symmetric matrix"
   ]
  },
  {
   "cell_type": "code",
   "execution_count": null,
   "metadata": {
    "jupyter": {
     "source_hidden": true
    }
   },
   "outputs": [],
   "source": [
    "# Convert to matrix & pretty print as DataFrame\n",
    "D = distance.squareform(pairwise_distances)\n",
    "pd.DataFrame(data=D, index=filenames, columns=filenames)"
   ]
  },
  {
   "cell_type": "markdown",
   "metadata": {
    "jupyter": {
     "source_hidden": true
    },
    "tags": []
   },
   "source": [
    "**Take-home message**: Encoding images with filter banks yields feature vectors for convenient comparison.\n",
    "+ Used for, e.g., texture analysis\n",
    "+ Condenses images of arbitrary size to small number of numerical features\n",
    "+ Form of *feature engineering* in machine learning (e.g., before classification)\n",
    "+ Distinct choices of distance metrics & filter banks are possible"
   ]
  },
  {
   "cell_type": "markdown",
   "metadata": {},
   "source": [
    "---"
   ]
  },
  {
   "cell_type": "markdown",
   "metadata": {
    "jupyter": {
     "source_hidden": true
    },
    "tags": []
   },
   "source": [
    "## The Schmid (S) Filters\n",
    "\n",
    "The S set consists of 13 rotationally invariant filters of the form\n",
    "\n",
    "$$\n",
    "F(r, \\sigma, \\tau) = \n",
    "F_0 (\\sigma, \\tau) + \\cos \\left( \\frac{\\pi \\tau r}{\\sigma} \\right) e ^ { - \\frac{r^2}{2 \\sigma^2} }\n",
    "$$\n",
    "\n",
    "Schmid Filter Bank equation\n",
    "where $F_{0}$ is added to obtain a zero DC component with the  $(\\sigma, \\tau)$ pair taking values $(2,1)$, $(4,1)$, $(4,2)$, $(6,1)$, $(6,2)$, $(6,3)$, $(8,1)$, $(8,2)$, $(8,3)$, $(10,1)$, $(10,2)$, $(10,3)$ and $(10,4)$. The filters are shown below. \n",
    "\n",
    "<br/>\n",
    "<center>\n",
    "    <tr>\n",
    "    <td><img src=\"images/csfilters.jpg\" width=\"75%\"></img></td>\n",
    "    </tr><br/>\n",
    "    Figure from https://www.robots.ox.ac.uk/~vgg/research/texclass/filters.html.</center>\n",
    "<br/>\n",
    "\n",
    "All the filters have rotational symmetry.\n",
    "\n",
    "We can repeat the process above to analyze the same images with this filter bank."
   ]
  },
  {
   "cell_type": "code",
   "execution_count": null,
   "metadata": {
    "jupyter": {
     "source_hidden": true
    }
   },
   "outputs": [],
   "source": [
    "# Load Schmid Filter Bank from Matlab .mat file\n",
    "F = sp.io.loadmat('data/s.mat')\n",
    "filter_bank = F['S']\n",
    "print(filter_bank.shape)"
   ]
  },
  {
   "cell_type": "code",
   "execution_count": null,
   "metadata": {
    "jupyter": {
     "source_hidden": true
    }
   },
   "outputs": [],
   "source": [
    "filter_bank.sum(axis=(0,1)) # Should all be approx. zero (DC component)"
   ]
  },
  {
   "cell_type": "code",
   "execution_count": null,
   "metadata": {
    "jupyter": {
     "source_hidden": true
    }
   },
   "outputs": [],
   "source": [
    "# Visualize the filter bank\n",
    "nr = 2\n",
    "nc = 7\n",
    "plt.figure(figsize=(14,5))\n",
    "plt.suptitle('Schmid Filter Bank')\n",
    "for i in range(13):\n",
    "    plt.subplot(nr, nc, i+1)\n",
    "    fig = plt.imshow(filter_bank[:,:,i], cmap='gray')\n",
    "    fig.axes.get_xaxis().set_visible(False)\n",
    "    fig.axes.get_yaxis().set_visible(False)\n",
    "plt.show()    "
   ]
  },
  {
   "cell_type": "code",
   "execution_count": null,
   "metadata": {
    "jupyter": {
     "source_hidden": true
    }
   },
   "outputs": [],
   "source": [
    "feature_vectors_schmid = make_responses(filter_bank, filenames)\n",
    "print(feature_vectors_schmid.shape)"
   ]
  },
  {
   "cell_type": "code",
   "execution_count": null,
   "metadata": {
    "jupyter": {
     "source_hidden": true
    }
   },
   "outputs": [],
   "source": [
    "x = np.arange(len(feature_vectors_schmid[0]))\n",
    "\n",
    "plt.figure(figsize=(10,5))\n",
    "for k,c in enumerate(list('rbgc')):\n",
    "    plt.bar(x, feature_vectors_schmid[k,:], color=c, alpha=0.3, label=f'{filenames[k]}')\n",
    "plt.legend()\n",
    "plt.title('Feature vectors (4 files, S bank)');"
   ]
  },
  {
   "cell_type": "code",
   "execution_count": null,
   "metadata": {
    "jupyter": {
     "source_hidden": true
    }
   },
   "outputs": [],
   "source": [
    "pairwise_distances = distance.pdist(feature_vectors_schmid, 'euclidean')\n",
    "print(pairwise_distances.shape) # Returns upper triangle of symmetric matrix as a 1D array\n",
    "print(pairwise_distances) # Upper triangular portion of symmetric matrix"
   ]
  },
  {
   "cell_type": "code",
   "execution_count": null,
   "metadata": {
    "jupyter": {
     "source_hidden": true
    }
   },
   "outputs": [],
   "source": [
    "# Convert to matrix & pretty print as DataFrame\n",
    "D = distance.squareform(pairwise_distances)\n",
    "pd.DataFrame(data=D, index=filenames, columns=filenames)"
   ]
  },
  {
   "cell_type": "markdown",
   "metadata": {},
   "source": [
    "---"
   ]
  },
  {
   "cell_type": "markdown",
   "metadata": {
    "jupyter": {
     "source_hidden": true
    },
    "tags": []
   },
   "source": [
    "## The Maximum Response (MR) Filter Banks \n",
    "\n",
    "Each of the reduced MR sets is derived from a common Root Filter Set (RFS) which consists of 38 filters and is very similar to LM. The filters used in the RFS bank are a Gaussian and a Laplacian of Gaussian both with $\\sigma=10$ pixels (these filters have rotational symmetry), an edge filter at 3 scales (scale values) = $\\{(1,3), (2,6), (4,12)\\}$ and a bar filter at the same 3 scales. The latter two filters are oriented and, as in LM, occur at 6 orientations at each scale. The filter bank is shown below.\n",
    "\n",
    "<br/>\n",
    "<center>\n",
    "    <tr>\n",
    "    <td><img src=\"images/mr8filters.jpg\" width=\"75%\"></img></td>\n",
    "    </tr><br/>\n",
    "    Figure from https://www.robots.ox.ac.uk/~vgg/research/texclass/filters.html.</center>"
   ]
  },
  {
   "cell_type": "code",
   "execution_count": null,
   "metadata": {
    "jupyter": {
     "source_hidden": true
    }
   },
   "outputs": [],
   "source": [
    "F = sp.io.loadmat('data/rfs.mat')\n",
    "print(F['RFS'].shape)\n",
    "\n",
    "filter_bank_mr = F['RFS']\n",
    "nr = 3\n",
    "\n",
    "nc = 13\n",
    "plt.figure(figsize=(14,4))\n",
    "plt.suptitle('Maximum Response (MR) Filter Bank')\n",
    "for i in range(38):\n",
    "    plt.subplot(nr, nc, i+1)\n",
    "    fig = plt.imshow(filter_bank_mr[:,:,i], cmap='gray')\n",
    "    fig.axes.get_xaxis().set_visible(False)\n",
    "    fig.axes.get_yaxis().set_visible(False)\n",
    "plt.show()    "
   ]
  },
  {
   "cell_type": "code",
   "execution_count": null,
   "metadata": {
    "jupyter": {
     "source_hidden": true
    }
   },
   "outputs": [],
   "source": [
    "feature_vectors_mr = make_responses(filter_bank_mr, filenames)"
   ]
  },
  {
   "cell_type": "code",
   "execution_count": null,
   "metadata": {
    "jupyter": {
     "source_hidden": true
    }
   },
   "outputs": [],
   "source": [
    "x = np.arange(len(feature_vectors_mr[0]))\n",
    "\n",
    "plt.figure(figsize=(10,5))\n",
    "for k,c in enumerate(list('rbgc')):\n",
    "    plt.bar(x, feature_vectors_mr[k,:], color=c, alpha=0.3, label=f'{filenames[k]}')\n",
    "plt.legend()\n",
    "plt.title('Feature vectors (4 files, MR bank)');"
   ]
  },
  {
   "cell_type": "code",
   "execution_count": null,
   "metadata": {
    "jupyter": {
     "source_hidden": true
    }
   },
   "outputs": [],
   "source": [
    "pairwise_distances = distance.pdist(feature_vectors_mr, 'euclidean')\n",
    "print(pairwise_distances.shape) # Returns upper triangle of symmetric matrix as a 1D array\n",
    "print(pairwise_distances) # Upper triangular portion of symmetric matrix"
   ]
  },
  {
   "cell_type": "code",
   "execution_count": null,
   "metadata": {
    "jupyter": {
     "source_hidden": true
    }
   },
   "outputs": [],
   "source": [
    "# Convert to matrix & pretty print as DataFrame\n",
    "D = distance.squareform(pairwise_distances)\n",
    "pd.DataFrame(data=D, index=filenames, columns=filenames)"
   ]
  },
  {
   "cell_type": "markdown",
   "metadata": {},
   "source": [
    "---\n",
    "Based on materials from Prof. Faisal Qureshi (Faculty of Science, Ontario Tech University, Oshawa ON, Canada, http://vclab.science.ontariotechu.ca)\n",
    "\n",
    "<center>\n",
    "    <tr>\n",
    "    <td><img src=\"images/Quansight_Logo_Lockup_1.png\" width=\"25%\"></img></td>\n",
    "    </tr>\n",
    "</center>"
   ]
  }
 ],
 "metadata": {
  "kernelspec": {
   "display_name": "Python 3 (ipykernel)",
   "language": "python",
   "name": "python3"
  },
  "language_info": {
   "codemirror_mode": {
    "name": "ipython",
    "version": 3
   },
   "file_extension": ".py",
   "mimetype": "text/x-python",
   "name": "python",
   "nbconvert_exporter": "python",
   "pygments_lexer": "ipython3",
   "version": "3.7.12"
  },
  "toc-autonumbering": false,
  "toc-showcode": false,
  "toc-showmarkdowntxt": false,
  "toc-showtags": false
 },
 "nbformat": 4,
 "nbformat_minor": 4
}
