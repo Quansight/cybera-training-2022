{
 "cells": [
  {
   "cell_type": "markdown",
   "id": "da2119c4-4b36-4f8d-9afd-a323c4866241",
   "metadata": {},
   "source": [
    "<center>\n",
    "    <tr>\n",
    "    <td><img src=\"images/Quansight_Logo_Lockup_1.png\" width=\"25%\"></img></td>\n",
    "    </tr>\n",
    "</center>"
   ]
  },
  {
   "cell_type": "markdown",
   "id": "62a8ab20-265c-45cb-9022-e6ada26b385a",
   "metadata": {},
   "source": [
    "# Camera Rotation and Translation"
   ]
  },
  {
   "cell_type": "markdown",
   "id": "454610d7-d74f-4b26-876f-c20682a5f6d4",
   "metadata": {},
   "source": [
    "<figure style=\"margin-left:auto; margin-right: auto; text-align: center; display: block; max-width: 700px;\">\n",
    "<img src=\"images/camera-rotation-and-translation.png\" alt=\"Drawing\" style=\"width: 600px;\"/>\n",
    "    <br/><figcaption>Figure from Multiple View Geometry in Computer Vision, Second Edition </figcaption>\n",
    "</figure>\n",
    "\n",
    "Now we relax our assumption that the camera centre is located at the origin of the Euclidean coordinate system (we can think of this as the world coordinate system) with camera pointing straight down the $z$-axis.\n",
    "\n",
    "Say camera centre in inhomogeneous coordinates is $\\tilde{\\mathbf{C}}$ and that camera rotation is represented by matrix $\\mathbf{R}$.  Then we can transform an inhomogeneous point $\\tilde{\\mathbf{X}}$ in the world coordinate system to an inhomogeneous point $\\tilde{\\mathbf{X}}_{\\mathtt{cam}}$ in the camera coordinates system as follows\n",
    "\n",
    "$$\n",
    "\\tilde{\\mathbf{X}}_{\\mathtt{cam}} = \\mathbf{R} \\left( \\tilde{\\mathbf{X}} - \\tilde{\\mathbf{C}} \\right)\n",
    "$$\n",
    "\n",
    "We can re-write this as follows\n",
    "\n",
    "$$\n",
    "\\tilde{\\mathbf{X}}_{\\mathtt{cam}} =\n",
    "\\left[\n",
    "\\begin{array}{cc}\n",
    "\\mathbf{R} & - \\mathbf{R} \\tilde{C} \\\\\n",
    "\\mathbf{0} & 1\n",
    "\\end{array}\n",
    "\\right]\n",
    "\\left(\n",
    "\\begin{array}{c}\n",
    "X \\\\\n",
    "Y \\\\\n",
    "Z \\\\\n",
    "1 \n",
    "\\end{array}\n",
    "\\right)\n",
    "$$\n",
    "\n",
    "Putting it all together\n",
    "\n",
    "$$\n",
    "\\mathbf{x} = \\mathbf{K} \\mathbf{R} \\left[\\mathbf{I}\\ |\\ -\\tilde{C}\\right] \\mathbf{X}\n",
    "$$\n",
    "\n",
    "It is often convenient to set $\\mathbf{t} = -\\mathbf{R} \\tilde{C}$.  Then we can rewrite the above as follows\n",
    "\n",
    "$$\n",
    "\\mathbf{x} = \\mathbf{K} \\left[\\mathbf{R}\\ |\\ \\mathbf{t} \\right] \\mathbf{X}\n",
    "$$\n",
    "\n",
    "In this case, we set projection matrix to\n",
    "\n",
    "$$\n",
    "\\mathtt{P} = \\mathbf{K} \\left[\\mathbf{R}\\ |\\ \\mathbf{t} \\right]\n",
    "$$"
   ]
  },
  {
   "cell_type": "markdown",
   "id": "a30f3dd9-117b-49ce-a4ce-ad3049ab88dd",
   "metadata": {},
   "source": [
    "#### Exercise: Degrees of freedom of a projection matrix\n",
    "\n",
    "How many degrees of freedom does a projection matrix have when the camera centre is assumed to be fixed at $\\tilde{\\mathbf{C}}$ and the camera's rotation is represented by matrix $\\mathbf{R}$? That is, how many parameters are required to specify a projection matrix $\\mathtt{P}$ uniquely under these assumptions?"
   ]
  },
  {
   "cell_type": "markdown",
   "id": "301d382d-7414-4360-8c27-55fe3a1b1902",
   "metadata": {},
   "source": [
    "**Answer:** Your solution here:"
   ]
  },
  {
   "cell_type": "code",
   "execution_count": 1,
   "id": "9d8f2f7c-4bfd-4591-920f-a6ec6d8b80ab",
   "metadata": {},
   "outputs": [],
   "source": [
    "# %load solutions/01/solution_04.md"
   ]
  },
  {
   "cell_type": "markdown",
   "id": "02ca22c6-2b94-40ec-8a21-4217881b132d",
   "metadata": {},
   "source": [
    "## CCD Pixel Sizes and Skew\n",
    "\n",
    "Thus far we have assumed that image coordinates have equal scales in $x$ and $y$.   If the number of pixels per unit distance in image coordinates are $m_x$ and $m_y$ in the $x$ and $y$ directions then we re-write $\\mathbf{K}$ as follows\n",
    "\n",
    "$$\n",
    "\\mathbf{K} = \n",
    "\\left[\n",
    "\\begin{array}{ccc}\n",
    "\\alpha_x & s & x_0 \\\\\n",
    "& \\alpha_y & y_0 \\\\\n",
    "& & 1\n",
    "\\end{array}\n",
    "\\right]\n",
    "$$\n",
    "\n",
    "where $\\alpha_x = f m_x$, $\\alpha_y = f m_y$, $x_0 = m_x p_x$, $y_0 = m_y p_y$, $s$ is the skew term, which is often $0$.  Note that $x_0$ and $y_0$ are the coordiantes of hte principal point in terms of pixel dimensions in $x$ and $y$ directions.  $s$ becomes non-zero under special circumstances when lens is not aligned with the image plane."
   ]
  },
  {
   "cell_type": "markdown",
   "id": "1d9762dc-6959-429b-acae-fd0a0744988c",
   "metadata": {},
   "source": [
    "#### Exercise: Degrees of freedom of a projection matrix\n",
    "\n",
    "How many degrees of freedom does a projection matrix have when the camera centre is assumed to be fixed at $\\tilde{\\mathbf{C}}$ and the camera's rotation is represented by matrix $\\mathbf{R}$ when the pixels are non-uniformly scaled as just described? That is, how many parameters are required to specify a projection matrix $\\mathtt{P}$ uniquely under these assumptions?"
   ]
  },
  {
   "cell_type": "markdown",
   "id": "a3d7f712-bd8c-410c-9741-cbbdae488aff",
   "metadata": {},
   "source": [
    "**Answer:** Your solution here:"
   ]
  },
  {
   "cell_type": "code",
   "execution_count": null,
   "id": "64774ca8-4c00-4b41-9626-7e1c7d7f5db2",
   "metadata": {},
   "outputs": [],
   "source": [
    "# %load solutions/01/solution_05.md"
   ]
  },
  {
   "cell_type": "markdown",
   "id": "07c6e69b-ca8b-4b2a-8b40-44f0da161898",
   "metadata": {},
   "source": [
    "## Putting it all together\n",
    "\n",
    "We get the following equation that describes the mapping from world points to image points.\n",
    "\n",
    "$$\n",
    "\\begin{align}\n",
    "\\mathbf{x} & = \\mathtt{P} \\mathbf{X} \\\\\n",
    "& = \\mathbf{K} \\left[ \\mathbf{R}\\ |\\ \\mathbf{t} \\right] \\mathbf{X}\n",
    "\\end{align}\n",
    "$$\n",
    "\n",
    "Note that $\\mathtt{P}$ is the same as a homogeneous $3 \\times 4$ matrix defined upto an arbitrary scale of rank 3.  Projective matrices of rank less than 3 do not span the image plane.  The projections might degenerate to a line or a point.  "
   ]
  },
  {
   "cell_type": "markdown",
   "id": "da603d4d-909a-41c1-b4cf-7bc028998f3e",
   "metadata": {},
   "source": [
    "## Intrinsic and extrinsic matrices\n",
    "\n",
    "Matrix $\\mathbf{K}$ is commonly refered to as the *intrinsic* matrix of the camera, whereas matrix $\\left[ \\mathbf{R}\\ |\\ \\mathbf{t} \\right]$ is commonly referred to as the *extrinsic* matrix.  Extrinsic matrix changes every time a camera is moved.\n"
   ]
  },
  {
   "cell_type": "markdown",
   "id": "08557632-fd22-4e17-bead-5e5b15cd8f0f",
   "metadata": {},
   "source": [
    "## Properties of $\\mathtt{P}$\n",
    "\n",
    "To make the following discussion easier, lets express $\\mathtt{P}$ as \n",
    "\n",
    "$$\n",
    "\\mathtt{P} = \\left[ \\mathtt{M}\\ |\\ \\mathbf{p}_4 \\right]\n",
    "$$\n",
    "\n",
    "Here $\\mathtt{M}$ is the top-left $3 \\times 3$ submatrix of $\\mathtt{P}$ and $\\mathbf{p}_4$ is the last column of $\\mathtt{P}$.  Furthermore, let $\\mathbf{p}^{iT}$ and $\\mathbf{p}_j$ represent the $i$-th row and $j$-th column of $\\mathtt{P}$, respectively.  We can similarly denote rows and columns of $\\mathtt{M}$."
   ]
  },
  {
   "cell_type": "markdown",
   "id": "424bd0bc-1ec5-48d8-91c3-3bfe6a753c29",
   "metadata": {},
   "source": [
    "### Finite Projective Camera\n",
    "\n",
    "If $\\mathtt{M}$ is non-singular than we have a finite projective camera.  There are cases when  $\\mathtt{M}$ is singular.  These are referred to as general projective cameras. "
   ]
  },
  {
   "cell_type": "markdown",
   "id": "6b35bdfd-4b2e-4d50-bcfb-f64392b67554",
   "metadata": {},
   "source": [
    "### Camera Center\n",
    "\n",
    "In general camera center is the 1-dimensional right nullspace of matrix $\\mathtt{P}$ since $\\mathtt{P}  \\mathbf{C} = \\mathbf{0}$.\n",
    "\n",
    "Alternately, we can use the following to find the camera center\n",
    "\n",
    "$$\n",
    "\\tilde{\\mathbf{C}} = - \\mathtt{M}^{-1} \n",
    "\\left(\n",
    "\\begin{array}{c}\n",
    "p_{41} \\\\\n",
    "p_{42} \\\\\n",
    "p_{43} \n",
    "\\end{array}\n",
    "\\right)\n",
    "$$\n",
    "\n",
    "Recall that \n",
    "\n",
    "$$\n",
    "\\mathbf{C} = \\left( \\tilde{C}^T, 1  \\right)^T\n",
    "$$\n",
    "\n",
    "*Aside 1*: \n",
    "\n",
    "If $\\mathtt{M}$ is singular (in case of general projective cameras), camera center (at infinity) is the right null space of $\\mathtt{M}$, i.e.,  $\\mathtt{M} \\mathbf{d} = \\mathbf{0}$.  In this case, \n",
    "\n",
    "$$\n",
    "\\mathbf{C} = \\left( \\mathbf{d}^T, 0  \\right)^T\n",
    "$$\n",
    "\n",
    "\n",
    "*Aside 2*: \n",
    "\n",
    "The singular value decomposition (SVD) of a matrix $\\mathtt{P}$ may be written as \n",
    "\n",
    "$$\n",
    "\\mathtt{P} = \\mathtt{U} \\mathtt{\\Sigma} \\mathtt{V}^T\n",
    "$$\n",
    "\n",
    "Then the (right) null space of $\\mathtt{P}$ is the columns of $\\mathtt{V}$ corresponding to singular values equal to zero."
   ]
  },
  {
   "cell_type": "markdown",
   "id": "17507dee-23e8-4c88-ad0f-6dfa0c93c562",
   "metadata": {},
   "source": [
    "### Columns of $\\mathtt{P}$\n",
    "\n",
    "$\\mathbf{p}_1$, $\\mathbf{p}_2$ and $\\mathbf{p}_3$ represent vanishing points in the $x$, $y$, and $z$ directions.\n",
    "\n",
    "$\\mathbf{p}_4$ is the image of the world origin.\n",
    "\n",
    "*Aside*: \n",
    "\n",
    "Homogeneous point $\\mathbf{D} = (1,0,0,0)^T$ represent the $x$-axis.  Then $\\mathtt{P} \\mathtt{D} = \\mathbf{p_1}$ is the vanishing point in $x$-direction. \n",
    "\n",
    "<center>\n",
    "    <tr>\n",
    "        <td><img src=\"images/1viewfigs-camera_columns.png\" width=\"60%\"></img></td>\n",
    "    </tr><br/>\n",
    "    <tr>\n",
    "    <td>Figure from Hartley and Zisserman</td>\n",
    "    </tr>\n",
    "</center>"
   ]
  },
  {
   "cell_type": "markdown",
   "id": "66abc268-8828-4a5f-a9b5-3488c08e1dbe",
   "metadata": {},
   "source": [
    "### Rows of $\\mathtt{P}$\n",
    "\n",
    "$\\mathbf{p}^{1T}$ and $\\mathbf{p}^{2T}$ represent planes defined by the camera centre and image plane coordinate axis $x$ and $y$.\n",
    "\n",
    "$\\mathbf{p}^{3T}$ represents the principal plane.\n",
    "\n",
    "<center>\n",
    "    <tr>\n",
    "        <td><img src=\"images/1viewfigs-camera_planes.png\" width=\"60%\"></img></td>\n",
    "    </tr><br/>\n",
    "    <tr>\n",
    "    <td>Figure from Hartley and Zisserman</td>\n",
    "    </tr>\n",
    "</center>\n",
    "\n",
    "One way to convince ourselves that $\\mathbf{p}^{3T}$ represents the principal plane is to see that the only way a point $\\mathbf{X}$ maps to $(x,y,0)$ is if $\\mathbf{p}^{3} \\mathbf{X} = 0$.  Similar arguments can be made for $\\mathbf{p}^{1T}$ and $\\mathbf{p}^{2T}$ representing planes defined by camera center and image plane cooridnate axis $x$ and $y$, respectively."
   ]
  },
  {
   "cell_type": "markdown",
   "id": "a4b38e2a-ea52-4cb0-9e47-daca9cf7edd8",
   "metadata": {},
   "source": [
    "### Principal Point\n",
    "\n",
    "The principal point is given by $\\mathtt{M} \\mathbf{m}^{3}$,\n",
    "where $\\mathbf{m}^{3T}$ is the third row of $\\mathtt{M}$.  \n",
    "\n",
    "*Aside*: \n",
    "\n",
    "Notice that the principal plane is given by $\\mathbf{p}^{3T}$.  The normal to this plane is $(p_{31}, p_{32}, p_{33})$ and using this information we can set a point at infinity using homogeneous coordinates as follows \n",
    "\n",
    "$$\n",
    "\\hat{\\mathbf{p}}^{3} = (p_{31}, p_{32}, p_{33}, 0)\n",
    "$$\n",
    "\n",
    "Now project this point using $\\mathtt{P}$ and we get the principal point."
   ]
  },
  {
   "cell_type": "markdown",
   "id": "86242e64-c3f6-45a1-90b7-7c5747175208",
   "metadata": {},
   "source": [
    "### Principal Axis Vector\n",
    "\n",
    "$\\mathbf{v} = \\mathrm{det}(\\mathtt{M}) \\mathbf{m}^3$ is a vector in the direction of the principal axis, directed towards the front of the camera."
   ]
  },
  {
   "cell_type": "markdown",
   "id": "ee891c9c-e919-415c-8bc9-3e577a53916c",
   "metadata": {},
   "source": [
    "## Action of $\\mathtt{P}$ on points"
   ]
  },
  {
   "cell_type": "markdown",
   "id": "0143caab-3c2e-46b6-a7f9-830745fe010a",
   "metadata": {},
   "source": [
    "\n",
    "### Forward Projection\n",
    "\n",
    "Points in the world are mapped to image coordinates using\n",
    "\n",
    "$$\n",
    "\\mathbf{x} = \\mathtt{P} \\mathbf{X}\n",
    "$$\n",
    "\n",
    "Points $\\mathbf{D}=(\\mathbf{d}^T,0)$  on the plane at infinity map to vanishing points in the image $\\mathbf{x} = \\mathtt{M} \\mathbf{d}$"
   ]
  },
  {
   "cell_type": "markdown",
   "id": "b834199c-6b9c-4b3f-a41f-bb6c4f7987e8",
   "metadata": {},
   "source": [
    "### Back-projection of points to rays\n",
    "\n",
    "Given a point $\\mathbf{x}$ in the image, we seek to determine the set of points in space that map to this point.  This set of points is a ray passing point $\\mathtt{P}^+ \\mathbf{x}$ and the camera centre.  \n",
    "\n",
    "$$\n",
    "\\mathbf{X}(\\lambda) = \\mathtt{P^+} \\mathbf{x} + \\lambda \\mathbf{C}\n",
    "$$\n",
    "\n",
    "\n",
    "Here  $\\mathtt{P}^+ = \\mathtt{P}^T \\left( \\mathtt{P} \\mathtt{P}^T \\right)^{-1}$ is the psuedo-inverse of $\\mathtt{P}$.  Note that $\\mathtt{P} \\mathtt{P}^+ = \\mathbf{I}$.\n",
    "\n",
    "For finite cameras, we can develop a simpler expression.  Recall that camera centre for these cameras is given by $\\tilde{\\mathbf{C}} = - \\mathtt{M}^{-1} \\mathbf{p}_4$.  An image point $\\mathbf{x}$ back projects to a ray intersecting the plane at infinity at the points $\\mathbf{D} = \\left( \\left( \\mathtt{M}^{-1} \\mathbf{x} \\right), 0 \\right)^T$.  Using camera centre and $\\mathbf{D}$, we get\n",
    "\n",
    "$$\n",
    "\\mathbf{X}(\\mu) = \\mu\n",
    "\\left(\n",
    "\\begin{array}{c}\n",
    "\\mathtt{M}^{-1} \\mathbf{x} \\\\\n",
    "0\n",
    "\\end{array}\n",
    "\\right)\n",
    "+\n",
    "\\left(\n",
    "\\begin{array}{c}\n",
    "- \\mathtt{M}^{-1} \\mathbf{p}_4 \\\\\n",
    "1\n",
    "\\end{array}\n",
    "\\right)\n",
    "$$"
   ]
  },
  {
   "cell_type": "markdown",
   "id": "fdd725b0-d570-4b83-b206-08927ed62293",
   "metadata": {},
   "source": [
    "## Decomposition of the camera matrix\n",
    "\n",
    "Given a camera matrix $\\mathtt{P}$, we often desire to find: camera centre, camera rotation, and camera intrinsic parameters.\n",
    "\n",
    "### Camera centre\n",
    "\n",
    "We can find camera center by using $\\mathtt{P} \\mathbf{C} = 0$ as discussed earlier, i.e., by finding a null vector of the projection matrix.\n",
    "\n",
    "### Camera rotation and intrinsic parameters\n",
    "\n",
    "Recall that \n",
    "\n",
    "$$\n",
    "\\mathtt{P} = \\left[ \\mathtt{M}\\ |\\ -\\mathtt{M} \\tilde{\\mathbf{C}} \\right] = \\mathtt{K} \\left[ \\mathtt{R}\\ |\\ - \\mathtt{R} \\tilde{\\mathbf{C}} \\right].\n",
    "$$\n",
    "\n",
    "We can find $\\mathtt{K}$ (camera intrisic parameters) and $\\mathtt{R}$ (camera rotation) using the [RQ-decomposition](https://docs.scipy.org/doc/scipy/reference/generated/scipy.linalg.rq.html) of $\\mathtt{M}$.  We require that the diagonal entries of $\\mathtt{K}$ are positive to get rid of the ambiguity in the decomposition."
   ]
  },
  {
   "cell_type": "markdown",
   "id": "a5735383-06e5-4236-814a-6a3629864bd5",
   "metadata": {},
   "source": [
    "#### Exercise: determining camera parameters from a projection matrix\n",
    "\n",
    "(This is example 6.2 from [Multiple View Geometry in Computer Vision (2nd Ed.)](https://www.robots.ox.ac.uk/~vgg/hzbook/) by Harley and Zisserman)\n",
    "\n",
    "Suppose we are given a projection matrix $\\mathtt{P}$ as follows:\n",
    "\n",
    "$$\n",
    "\\mathtt{P} = \\begin{bmatrix}\n",
    "3.53553\\times10^{2} & 3.39645\\times10^{2} & 2.77744\\times10^{2} & -1.44946\\times10^{6} \\\\\n",
    "-1.03528\\times10^{2} & 2.33212\\times10^{1} & 4.59607\\times10^{2} &-6.32525\\times10^{5} \\\\\n",
    "7.07107\\times10^{-1} & -3.53553\\times10^{-1} & 6.12372\\times10^{-1} & -9.18559\\times10^{2}\n",
    "\\end{bmatrix}\n",
    "$$\n",
    "Use $\\mathtt{P}$ as given above to find the camera centre, the rotation, and the intrinsic parameters."
   ]
  },
  {
   "cell_type": "code",
   "execution_count": null,
   "id": "611ed7be-ee78-43e0-9848-4f701a796717",
   "metadata": {
    "tags": []
   },
   "outputs": [],
   "source": [
    "import numpy as np\n",
    "import math\n",
    "from scipy import linalg"
   ]
  },
  {
   "cell_type": "code",
   "execution_count": null,
   "id": "d13b75ea-fcf1-45d8-9457-399b61e4c099",
   "metadata": {},
   "outputs": [],
   "source": [
    "# P is provided for you as a NumPy array\n",
    "P = np.array([[3.53553e2, 3.39645e2, 2.77744e2, -1.44946e6],\n",
    "              [-1.03528e2, 2.33212e1, 4.59607e2, -6.32525e5],\n",
    "              [7.07107e-1, -3.53553e-1, 6.12372e-1, -9.18559e2]]) "
   ]
  },
  {
   "cell_type": "code",
   "execution_count": null,
   "id": "e6a73ffe-a46c-44a8-8af0-72a0ca63371f",
   "metadata": {},
   "outputs": [],
   "source": [
    "# Your solution here:"
   ]
  },
  {
   "cell_type": "code",
   "execution_count": null,
   "id": "021c2ced-2113-4c3c-986f-ce617b7ab525",
   "metadata": {},
   "outputs": [],
   "source": [
    "# %load solutions/01/solution_06.py"
   ]
  },
  {
   "cell_type": "markdown",
   "id": "de443f49-16d8-4790-a94a-7f00a389dc7a",
   "metadata": {},
   "source": [
    "---\n",
    "Based on materials from Prof. Faisal Qureshi (Faculty of Science, Ontario Tech University, Oshawa ON, Canada, http://vclab.science.ontariotechu.ca)\n",
    "\n",
    "<center>\n",
    "    <tr>\n",
    "    <td><img src=\"images/Quansight_Logo_Lockup_1.png\" width=\"25%\"></img></td>\n",
    "    </tr>\n",
    "</center>"
   ]
  }
 ],
 "metadata": {
  "kernelspec": {
   "display_name": "filesystem-cybera",
   "language": "python",
   "name": "conda-env-filesystem-cybera-py"
  },
  "language_info": {
   "codemirror_mode": {
    "name": "ipython",
    "version": 3
   },
   "file_extension": ".py",
   "mimetype": "text/x-python",
   "name": "python",
   "nbconvert_exporter": "python",
   "pygments_lexer": "ipython3",
   "version": "3.7.12"
  }
 },
 "nbformat": 4,
 "nbformat_minor": 5
}
